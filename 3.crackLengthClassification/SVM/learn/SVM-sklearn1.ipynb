{
 "cells": [
  {
   "cell_type": "code",
   "execution_count": 37,
   "metadata": {},
   "outputs": [
    {
     "data": {
      "text/html": [
       "<style>#sk-container-id-12 {color: black;background-color: white;}#sk-container-id-12 pre{padding: 0;}#sk-container-id-12 div.sk-toggleable {background-color: white;}#sk-container-id-12 label.sk-toggleable__label {cursor: pointer;display: block;width: 100%;margin-bottom: 0;padding: 0.3em;box-sizing: border-box;text-align: center;}#sk-container-id-12 label.sk-toggleable__label-arrow:before {content: \"▸\";float: left;margin-right: 0.25em;color: #696969;}#sk-container-id-12 label.sk-toggleable__label-arrow:hover:before {color: black;}#sk-container-id-12 div.sk-estimator:hover label.sk-toggleable__label-arrow:before {color: black;}#sk-container-id-12 div.sk-toggleable__content {max-height: 0;max-width: 0;overflow: hidden;text-align: left;background-color: #f0f8ff;}#sk-container-id-12 div.sk-toggleable__content pre {margin: 0.2em;color: black;border-radius: 0.25em;background-color: #f0f8ff;}#sk-container-id-12 input.sk-toggleable__control:checked~div.sk-toggleable__content {max-height: 200px;max-width: 100%;overflow: auto;}#sk-container-id-12 input.sk-toggleable__control:checked~label.sk-toggleable__label-arrow:before {content: \"▾\";}#sk-container-id-12 div.sk-estimator input.sk-toggleable__control:checked~label.sk-toggleable__label {background-color: #d4ebff;}#sk-container-id-12 div.sk-label input.sk-toggleable__control:checked~label.sk-toggleable__label {background-color: #d4ebff;}#sk-container-id-12 input.sk-hidden--visually {border: 0;clip: rect(1px 1px 1px 1px);clip: rect(1px, 1px, 1px, 1px);height: 1px;margin: -1px;overflow: hidden;padding: 0;position: absolute;width: 1px;}#sk-container-id-12 div.sk-estimator {font-family: monospace;background-color: #f0f8ff;border: 1px dotted black;border-radius: 0.25em;box-sizing: border-box;margin-bottom: 0.5em;}#sk-container-id-12 div.sk-estimator:hover {background-color: #d4ebff;}#sk-container-id-12 div.sk-parallel-item::after {content: \"\";width: 100%;border-bottom: 1px solid gray;flex-grow: 1;}#sk-container-id-12 div.sk-label:hover label.sk-toggleable__label {background-color: #d4ebff;}#sk-container-id-12 div.sk-serial::before {content: \"\";position: absolute;border-left: 1px solid gray;box-sizing: border-box;top: 0;bottom: 0;left: 50%;z-index: 0;}#sk-container-id-12 div.sk-serial {display: flex;flex-direction: column;align-items: center;background-color: white;padding-right: 0.2em;padding-left: 0.2em;position: relative;}#sk-container-id-12 div.sk-item {position: relative;z-index: 1;}#sk-container-id-12 div.sk-parallel {display: flex;align-items: stretch;justify-content: center;background-color: white;position: relative;}#sk-container-id-12 div.sk-item::before, #sk-container-id-12 div.sk-parallel-item::before {content: \"\";position: absolute;border-left: 1px solid gray;box-sizing: border-box;top: 0;bottom: 0;left: 50%;z-index: -1;}#sk-container-id-12 div.sk-parallel-item {display: flex;flex-direction: column;z-index: 1;position: relative;background-color: white;}#sk-container-id-12 div.sk-parallel-item:first-child::after {align-self: flex-end;width: 50%;}#sk-container-id-12 div.sk-parallel-item:last-child::after {align-self: flex-start;width: 50%;}#sk-container-id-12 div.sk-parallel-item:only-child::after {width: 0;}#sk-container-id-12 div.sk-dashed-wrapped {border: 1px dashed gray;margin: 0 0.4em 0.5em 0.4em;box-sizing: border-box;padding-bottom: 0.4em;background-color: white;}#sk-container-id-12 div.sk-label label {font-family: monospace;font-weight: bold;display: inline-block;line-height: 1.2em;}#sk-container-id-12 div.sk-label-container {text-align: center;}#sk-container-id-12 div.sk-container {/* jupyter's `normalize.less` sets `[hidden] { display: none; }` but bootstrap.min.css set `[hidden] { display: none !important; }` so we also need the `!important` here to be able to override the default hidden behavior on the sphinx rendered scikit-learn.org. See: https://github.com/scikit-learn/scikit-learn/issues/21755 */display: inline-block !important;position: relative;}#sk-container-id-12 div.sk-text-repr-fallback {display: none;}</style><div id=\"sk-container-id-12\" class=\"sk-top-container\"><div class=\"sk-text-repr-fallback\"><pre>SVC()</pre><b>In a Jupyter environment, please rerun this cell to show the HTML representation or trust the notebook. <br />On GitHub, the HTML representation is unable to render, please try loading this page with nbviewer.org.</b></div><div class=\"sk-container\" hidden><div class=\"sk-item\"><div class=\"sk-estimator sk-toggleable\"><input class=\"sk-toggleable__control sk-hidden--visually\" id=\"sk-estimator-id-12\" type=\"checkbox\" checked><label for=\"sk-estimator-id-12\" class=\"sk-toggleable__label sk-toggleable__label-arrow\">SVC</label><div class=\"sk-toggleable__content\"><pre>SVC()</pre></div></div></div></div></div>"
      ],
      "text/plain": [
       "SVC()"
      ]
     },
     "execution_count": 37,
     "metadata": {},
     "output_type": "execute_result"
    }
   ],
   "source": [
    "# 官方demo\n",
    "from sklearn import svm\n",
    "X = [[0, 0], [1, 1]]\n",
    "y = [0, 1]\n",
    "clf = svm.SVC()\n",
    "clf.fit(X, y)\n"
   ]
  },
  {
   "cell_type": "code",
   "execution_count": 38,
   "metadata": {},
   "outputs": [
    {
     "data": {
      "text/plain": [
       "array([1])"
      ]
     },
     "execution_count": 38,
     "metadata": {},
     "output_type": "execute_result"
    }
   ],
   "source": [
    "# 官方demo\n",
    "clf.predict([[2., 2.]])\n"
   ]
  },
  {
   "cell_type": "code",
   "execution_count": 36,
   "metadata": {},
   "outputs": [
    {
     "name": "stdout",
     "output_type": "stream",
     "text": [
      "       0    1    2    3               4\n",
      "0    5.1  3.5  1.4  0.2     Iris-setosa\n",
      "1    4.9  3.0  1.4  0.2     Iris-setosa\n",
      "2    4.7  3.2  1.3  0.2     Iris-setosa\n",
      "3    4.6  3.1  1.5  0.2     Iris-setosa\n",
      "4    5.0  3.6  1.4  0.2     Iris-setosa\n",
      "..   ...  ...  ...  ...             ...\n",
      "145  6.7  3.0  5.2  2.3  Iris-virginica\n",
      "146  6.3  2.5  5.0  1.9  Iris-virginica\n",
      "147  6.5  3.0  5.2  2.0  Iris-virginica\n",
      "148  6.2  3.4  5.4  2.3  Iris-virginica\n",
      "149  5.9  3.0  5.1  1.8  Iris-virginica\n",
      "\n",
      "[150 rows x 5 columns]\n",
      "x=        0    1    2    3\n",
      "0    5.1  3.5  1.4  0.2\n",
      "1    4.9  3.0  1.4  0.2\n",
      "2    4.7  3.2  1.3  0.2\n",
      "3    4.6  3.1  1.5  0.2\n",
      "4    5.0  3.6  1.4  0.2\n",
      "..   ...  ...  ...  ...\n",
      "145  6.7  3.0  5.2  2.3\n",
      "146  6.3  2.5  5.0  1.9\n",
      "147  6.5  3.0  5.2  2.0\n",
      "148  6.2  3.4  5.4  2.3\n",
      "149  5.9  3.0  5.1  1.8\n",
      "\n",
      "[150 rows x 4 columns]\n",
      "y= [0 0 0 0 0 0 0 0 0 0 0 0 0 0 0 0 0 0 0 0 0 0 0 0 0 0 0 0 0 0 0 0 0 0 0 0 0\n",
      " 0 0 0 0 0 0 0 0 0 0 0 0 0 1 1 1 1 1 1 1 1 1 1 1 1 1 1 1 1 1 1 1 1 1 1 1 1\n",
      " 1 1 1 1 1 1 1 1 1 1 1 1 1 1 1 1 1 1 1 1 1 1 1 1 1 1 2 2 2 2 2 2 2 2 2 2 2\n",
      " 2 2 2 2 2 2 2 2 2 2 2 2 2 2 2 2 2 2 2 2 2 2 2 2 2 2 2 2 2 2 2 2 2 2 2 2 2\n",
      " 2 2]\n",
      "       0    1    2    3\n",
      "137  6.4  3.1  5.5  1.8\n",
      "84   5.4  3.0  4.5  1.5\n",
      "27   5.2  3.5  1.5  0.2\n",
      "127  6.1  3.0  4.9  1.8\n",
      "132  6.4  2.8  5.6  2.2\n",
      "..   ...  ...  ...  ...\n",
      "9    4.9  3.1  1.5  0.1\n",
      "103  6.3  2.9  5.6  1.8\n",
      "67   5.8  2.7  4.1  1.0\n",
      "117  7.7  3.8  6.7  2.2\n",
      "47   4.6  3.2  1.4  0.2\n",
      "\n",
      "[120 rows x 4 columns]\n"
     ]
    }
   ],
   "source": [
    "import numpy as np\n",
    "import pandas as pd\n",
    "import matplotlib as mpl\n",
    "import matplotlib.pyplot as plt\n",
    "import warnings\n",
    "from sklearn import svm  # svm导入\n",
    "from sklearn.svm import SVC\n",
    "from sklearn.model_selection import train_test_split\n",
    "from sklearn.metrics import accuracy_score\n",
    "# from sklearn.exceptions import ChangedBehaviorWarning\n",
    "\n",
    "# 设置属性防止中文乱码\n",
    "# mpl.rcParams['font.sans-serif'] = [u'SimHei']\n",
    "# mpl.rcParams['axes.unicode_minus'] = False\n",
    "\n",
    "# warnings.filterwarnings('ignore', category=ChangedBehaviorWarning)\n",
    "\n",
    "# 读取数据\n",
    "# 'sepal length', 'sepal width', 'petal length', 'petal width'\n",
    "iris_feature = u'长度1', u'宽度1', u'长度2', u'宽度2'\n",
    "path = '../dataset/Iris/Iris.data'  # 数据文件路径\n",
    "data = pd.read_csv(path, header=None)\n",
    "print(data)\n",
    "x, y = data[list(range(4))], data[4]\n",
    "# print(\"x=\",x)\n",
    "# print(\"y=\",y)\n",
    "y = pd.Categorical(y).codes  # 把文本数据进行编码，比如a b c编码为 0 1 2\n",
    "# x = x[[0, 3]]\n",
    "# 屏蔽x，仍然取所有的\n",
    "print(\"x=\", x)\n",
    "print(\"y=\", y)\n",
    "\n",
    "# ## 数据分割\n",
    "x_train, x_test, y_train, y_test = train_test_split(\n",
    "    x, y, random_state=0, train_size=0.8)\n",
    "print(x_train)\n"
   ]
  },
  {
   "cell_type": "code",
   "execution_count": 32,
   "metadata": {},
   "outputs": [
    {
     "data": {
      "text/html": [
       "<style>#sk-container-id-11 {color: black;background-color: white;}#sk-container-id-11 pre{padding: 0;}#sk-container-id-11 div.sk-toggleable {background-color: white;}#sk-container-id-11 label.sk-toggleable__label {cursor: pointer;display: block;width: 100%;margin-bottom: 0;padding: 0.3em;box-sizing: border-box;text-align: center;}#sk-container-id-11 label.sk-toggleable__label-arrow:before {content: \"▸\";float: left;margin-right: 0.25em;color: #696969;}#sk-container-id-11 label.sk-toggleable__label-arrow:hover:before {color: black;}#sk-container-id-11 div.sk-estimator:hover label.sk-toggleable__label-arrow:before {color: black;}#sk-container-id-11 div.sk-toggleable__content {max-height: 0;max-width: 0;overflow: hidden;text-align: left;background-color: #f0f8ff;}#sk-container-id-11 div.sk-toggleable__content pre {margin: 0.2em;color: black;border-radius: 0.25em;background-color: #f0f8ff;}#sk-container-id-11 input.sk-toggleable__control:checked~div.sk-toggleable__content {max-height: 200px;max-width: 100%;overflow: auto;}#sk-container-id-11 input.sk-toggleable__control:checked~label.sk-toggleable__label-arrow:before {content: \"▾\";}#sk-container-id-11 div.sk-estimator input.sk-toggleable__control:checked~label.sk-toggleable__label {background-color: #d4ebff;}#sk-container-id-11 div.sk-label input.sk-toggleable__control:checked~label.sk-toggleable__label {background-color: #d4ebff;}#sk-container-id-11 input.sk-hidden--visually {border: 0;clip: rect(1px 1px 1px 1px);clip: rect(1px, 1px, 1px, 1px);height: 1px;margin: -1px;overflow: hidden;padding: 0;position: absolute;width: 1px;}#sk-container-id-11 div.sk-estimator {font-family: monospace;background-color: #f0f8ff;border: 1px dotted black;border-radius: 0.25em;box-sizing: border-box;margin-bottom: 0.5em;}#sk-container-id-11 div.sk-estimator:hover {background-color: #d4ebff;}#sk-container-id-11 div.sk-parallel-item::after {content: \"\";width: 100%;border-bottom: 1px solid gray;flex-grow: 1;}#sk-container-id-11 div.sk-label:hover label.sk-toggleable__label {background-color: #d4ebff;}#sk-container-id-11 div.sk-serial::before {content: \"\";position: absolute;border-left: 1px solid gray;box-sizing: border-box;top: 0;bottom: 0;left: 50%;z-index: 0;}#sk-container-id-11 div.sk-serial {display: flex;flex-direction: column;align-items: center;background-color: white;padding-right: 0.2em;padding-left: 0.2em;position: relative;}#sk-container-id-11 div.sk-item {position: relative;z-index: 1;}#sk-container-id-11 div.sk-parallel {display: flex;align-items: stretch;justify-content: center;background-color: white;position: relative;}#sk-container-id-11 div.sk-item::before, #sk-container-id-11 div.sk-parallel-item::before {content: \"\";position: absolute;border-left: 1px solid gray;box-sizing: border-box;top: 0;bottom: 0;left: 50%;z-index: -1;}#sk-container-id-11 div.sk-parallel-item {display: flex;flex-direction: column;z-index: 1;position: relative;background-color: white;}#sk-container-id-11 div.sk-parallel-item:first-child::after {align-self: flex-end;width: 50%;}#sk-container-id-11 div.sk-parallel-item:last-child::after {align-self: flex-start;width: 50%;}#sk-container-id-11 div.sk-parallel-item:only-child::after {width: 0;}#sk-container-id-11 div.sk-dashed-wrapped {border: 1px dashed gray;margin: 0 0.4em 0.5em 0.4em;box-sizing: border-box;padding-bottom: 0.4em;background-color: white;}#sk-container-id-11 div.sk-label label {font-family: monospace;font-weight: bold;display: inline-block;line-height: 1.2em;}#sk-container-id-11 div.sk-label-container {text-align: center;}#sk-container-id-11 div.sk-container {/* jupyter's `normalize.less` sets `[hidden] { display: none; }` but bootstrap.min.css set `[hidden] { display: none !important; }` so we also need the `!important` here to be able to override the default hidden behavior on the sphinx rendered scikit-learn.org. See: https://github.com/scikit-learn/scikit-learn/issues/21755 */display: inline-block !important;position: relative;}#sk-container-id-11 div.sk-text-repr-fallback {display: none;}</style><div id=\"sk-container-id-11\" class=\"sk-top-container\"><div class=\"sk-text-repr-fallback\"><pre>SVC(C=1, gamma=0.1)</pre><b>In a Jupyter environment, please rerun this cell to show the HTML representation or trust the notebook. <br />On GitHub, the HTML representation is unable to render, please try loading this page with nbviewer.org.</b></div><div class=\"sk-container\" hidden><div class=\"sk-item\"><div class=\"sk-estimator sk-toggleable\"><input class=\"sk-toggleable__control sk-hidden--visually\" id=\"sk-estimator-id-11\" type=\"checkbox\" checked><label for=\"sk-estimator-id-11\" class=\"sk-toggleable__label sk-toggleable__label-arrow\">SVC</label><div class=\"sk-toggleable__content\"><pre>SVC(C=1, gamma=0.1)</pre></div></div></div></div></div>"
      ],
      "text/plain": [
       "SVC(C=1, gamma=0.1)"
      ]
     },
     "execution_count": 32,
     "metadata": {},
     "output_type": "execute_result"
    }
   ],
   "source": [
    "clf = SVC(C=1,kernel='rbf',gamma=0.1)\n",
    "\n",
    "## 模型训练\n",
    "clf.fit(x_train, y_train)"
   ]
  },
  {
   "cell_type": "markdown",
   "metadata": {},
   "source": [
    "API 说明：\\color{red}{sklearn.svm.SVC}"
   ]
  },
  {
   "cell_type": "code",
   "execution_count": 33,
   "metadata": {},
   "outputs": [
    {
     "name": "stdout",
     "output_type": "stream",
     "text": [
      "0.9416666666666667\n",
      "训练集准确率： 0.9416666666666667\n",
      "0.9666666666666667\n",
      "测试集准确率： 0.9666666666666667\n"
     ]
    }
   ],
   "source": [
    "print (clf.score(x_train, y_train)) \n",
    "print ('训练集准确率：', accuracy_score(y_train, clf.predict(x_train)))\n",
    "print (clf.score(x_test, y_test))\n",
    "print ('测试集准确率：', accuracy_score(y_test, clf.predict(x_test)))"
   ]
  },
  {
   "cell_type": "code",
   "execution_count": 34,
   "metadata": {},
   "outputs": [
    {
     "name": "stdout",
     "output_type": "stream",
     "text": [
      "decision_function:\n",
      " [[-0.2485118   1.20067014  2.19543222]\n",
      " [-0.20787358  2.22420693  0.90515931]\n",
      " [ 2.23341631  1.1892331  -0.26163805]\n",
      " [-0.24665047  1.21005183  2.17768619]\n",
      " [-0.26161847  1.18234939  2.23644247]\n",
      " [-0.18291318  2.22455284  0.8470165 ]\n",
      " [ 2.21039796  1.20020687 -0.25425701]\n",
      " [-0.23298664  2.21638061  1.10683209]\n",
      " [-0.22238599  2.2193494   1.02470265]\n",
      " [-0.1734762   2.22144634  0.84266092]\n",
      " [-0.25839272  1.1651897   2.23714807]\n",
      " [ 2.23929948  1.17720607 -0.26210572]\n",
      " [-0.26189803  1.13991962  2.24879117]\n",
      " [ 2.1899193   1.20719642 -0.24930475]\n",
      " [ 2.22953692  1.19225796 -0.26046113]\n",
      " [ 1.03673795  2.21913692 -0.22378558]\n",
      " [-0.24881827  1.19681917  2.20012368]\n",
      " [-0.26582208  1.13636082  2.25481263]\n",
      " [-0.22445409  2.21766327  1.05078425]\n",
      " [-0.24897415  1.18788742  2.20799909]\n",
      " [ 0.87036633  2.22215217 -0.19219288]\n",
      " [-0.2522917   1.03382713  2.25000352]\n",
      " [-0.23671445  2.20919696  1.1444505 ]\n",
      " [ 0.8803175   2.22246327 -0.19707561]\n",
      " [-0.24805031  1.20414459  2.19017045]\n",
      " [-0.22921833  2.21099519  1.10763526]\n",
      " [-0.21278268  2.22327401  0.93046736]\n",
      " [-0.25235777  1.20082755  2.20517035]\n",
      " [-0.22592663  1.187059    2.15064944]\n",
      " [-0.25628033  1.18836037  2.22320412]\n",
      " [-0.23298664  2.21638061  1.10683209]\n",
      " [ 2.23852434  1.18013899 -0.26228628]\n",
      " [-0.24845816  1.21434642  2.17653755]\n",
      " [-0.18431269  2.22330511  0.85260602]\n",
      " [-0.18431269  2.22330511  0.85260602]\n",
      " [-0.17913716  2.2238258   0.84376605]\n",
      " [-0.21619798  2.21673573  0.99568182]\n",
      " [-0.24672654  1.15700253  2.22066082]\n",
      " [ 2.23159563  1.19086911 -0.26112337]\n",
      " [ 2.24588894  1.15276187 -0.2617709 ]\n",
      " [-0.25268601  1.19707465  2.2092744 ]\n",
      " [-0.16778497  2.22229206  0.83430761]\n",
      " [ 2.22953692  1.19225796 -0.26046113]\n",
      " [ 2.19585218  1.20475376 -0.25035273]\n",
      " [-0.23301998  1.18905842  2.16770324]\n",
      " [ 2.23988703  1.17400041 -0.26178978]\n",
      " [-0.24458842  1.21469704  2.16207487]\n",
      " [ 0.93284631  2.22164861 -0.21133621]\n",
      " [ 2.2329367   1.18176107 -0.25957618]\n",
      " [-0.22785998  2.21349877  1.09156726]\n",
      " [-0.26186654  1.07705102  2.25694244]\n",
      " [-0.18900379  2.22256862  0.86276212]\n",
      " [ 2.24470101  1.1718807  -0.26425507]\n",
      " [-0.25645349  1.14156343  2.24067836]\n",
      " [-0.26189803  1.13991962  2.24879117]\n",
      " [-0.26155877  1.17700585  2.23841781]\n",
      " [-0.25914459  1.18797662  2.22916131]\n",
      " [ 2.23501008  1.18734627 -0.26200898]\n",
      " [ 2.23852434  1.18013899 -0.26228628]\n",
      " [-0.25628033  1.18836037  2.22320412]\n",
      " [-0.25877496  1.17172895  2.23552769]\n",
      " [ 2.23356593  1.1785732  -0.25917646]\n",
      " [-0.26355086  1.18595943  2.23849971]\n",
      " [ 2.23755576  1.18280363 -0.2623311 ]\n",
      " [-0.25166506  1.21362086  2.18822302]\n",
      " [-0.25787954  1.15801538  2.23853961]\n",
      " [ 2.24051814  1.16675459 -0.26074999]\n",
      " [ 2.23638694  1.18520456 -0.26223922]\n",
      " [-0.23794057  1.16832169  2.19861323]\n",
      " [ 2.22657047  1.19380333 -0.25944245]\n",
      " [ 2.24051814  1.16675459 -0.26074999]\n",
      " [ 2.20761501  1.20311484 -0.2541799 ]\n",
      " [-0.17913716  2.2238258   0.84376605]\n",
      " [-0.26249911  1.14856792  2.24790122]\n",
      " [-0.25042615  1.08565456  2.24262375]\n",
      " [ 2.23501008  1.18734627 -0.26200898]\n",
      " [ 2.24395573  1.17484494 -0.26435876]\n",
      " [ 2.23341631  1.1892331  -0.26163805]\n",
      " [-0.18900379  2.22256862  0.86276212]\n",
      " [-0.22391129  2.2035541   1.10777959]\n",
      " [ 2.23638694  1.18520456 -0.26223922]\n",
      " [ 2.20297495  1.20431614 -0.25283142]\n",
      " [-0.21070911  2.21079066  0.99939808]\n",
      " [ 2.20761501  1.20311484 -0.2541799 ]\n",
      " [-0.2522917   1.03382713  2.25000352]\n",
      " [ 1.05433933  2.21810903 -0.22537731]\n",
      " [-0.24271207  1.05793191  2.23721529]\n",
      " [-0.22473847  2.1999793   1.1210057 ]\n",
      " [ 2.24061944  1.18209583 -0.26387918]\n",
      " [-0.24570454  1.21252362  2.17031539]\n",
      " [ 2.21865587  1.19539855 -0.25623181]\n",
      " [-0.24647226  1.08648412  2.23774549]\n",
      " [ 2.22657047  1.19380333 -0.25944245]\n",
      " [ 2.23929948  1.17720607 -0.26210572]\n",
      " [-0.24806948  1.13202882  2.23088167]\n",
      " [ 2.23638694  1.18520456 -0.26223922]\n",
      " [-0.26542989  1.17435918  2.24589372]\n",
      " [-0.18900379  2.22256862  0.86276212]\n",
      " [-0.1734762   2.22144634  0.84266092]\n",
      " [ 0.90392105  2.22057359 -0.20267464]\n",
      " [-0.26368143  1.1759006   2.24246712]\n",
      " [-0.26297658  1.1564307   2.24683151]\n",
      " [-0.22921833  2.21099519  1.10763526]\n",
      " [-0.24442651  1.19180851  2.19409309]\n",
      " [ 2.23638694  1.18520456 -0.26223922]\n",
      " [ 0.93282071  2.22119514 -0.2107895 ]\n",
      " [-0.2645498   1.14707148  2.25116121]\n",
      " [-0.24845816  1.21434642  2.17653755]\n",
      " [ 2.23501008  1.18734627 -0.26200898]\n",
      " [-0.21399472  2.20499881  1.05457854]\n",
      " [-0.18431269  2.22330511  0.85260602]\n",
      " [-0.24458842  1.21469704  2.16207487]\n",
      " [-0.20863462  2.2132463   0.96896737]\n",
      " [ 2.22722781  1.19340288 -0.25964673]\n",
      " [ 2.21612594  1.19942925 -0.25640977]\n",
      " [ 2.24395573  1.17484494 -0.26435876]\n",
      " [-0.24805031  1.20414459  2.19017045]\n",
      " [ 0.89191061  2.21994486 -0.19782478]\n",
      " [-0.2506955   1.05411854  2.24652418]\n",
      " [ 2.23988703  1.17400041 -0.26178978]]\n",
      "\n",
      "predict:\n",
      " [2 1 0 2 2 1 0 1 1 1 2 0 2 0 0 1 2 2 1 2 1 2 1 1 2 1 1 2 2 2 1 0 2 1 1 1 1\n",
      " 2 0 0 2 1 0 0 2 0 2 1 0 1 2 1 0 2 2 2 2 0 0 2 2 0 2 0 2 2 0 0 2 0 0 0 1 2\n",
      " 2 0 0 0 1 1 0 0 1 0 2 1 2 1 0 2 0 2 0 0 2 0 2 1 1 1 2 2 1 2 0 1 2 2 0 1 1\n",
      " 2 1 0 0 0 2 1 2 0]\n"
     ]
    }
   ],
   "source": [
    "print ('decision_function:\\n', clf.decision_function(x_train))\n",
    "print ('\\npredict:\\n', clf.predict(x_train))"
   ]
  },
  {
   "cell_type": "code",
   "execution_count": 35,
   "metadata": {},
   "outputs": [
    {
     "ename": "KeyError",
     "evalue": "1",
     "output_type": "error",
     "traceback": [
      "\u001b[0;31m---------------------------------------------------------------------------\u001b[0m",
      "\u001b[0;31mKeyError\u001b[0m                                  Traceback (most recent call last)",
      "File \u001b[0;32m~/anaconda3/envs/KNN/lib/python3.9/site-packages/pandas/core/indexes/base.py:3629\u001b[0m, in \u001b[0;36mIndex.get_loc\u001b[0;34m(self, key, method, tolerance)\u001b[0m\n\u001b[1;32m   3628\u001b[0m \u001b[39mtry\u001b[39;00m:\n\u001b[0;32m-> 3629\u001b[0m     \u001b[39mreturn\u001b[39;00m \u001b[39mself\u001b[39;49m\u001b[39m.\u001b[39;49m_engine\u001b[39m.\u001b[39;49mget_loc(casted_key)\n\u001b[1;32m   3630\u001b[0m \u001b[39mexcept\u001b[39;00m \u001b[39mKeyError\u001b[39;00m \u001b[39mas\u001b[39;00m err:\n",
      "File \u001b[0;32m~/anaconda3/envs/KNN/lib/python3.9/site-packages/pandas/_libs/index.pyx:136\u001b[0m, in \u001b[0;36mpandas._libs.index.IndexEngine.get_loc\u001b[0;34m()\u001b[0m\n",
      "File \u001b[0;32m~/anaconda3/envs/KNN/lib/python3.9/site-packages/pandas/_libs/index.pyx:163\u001b[0m, in \u001b[0;36mpandas._libs.index.IndexEngine.get_loc\u001b[0;34m()\u001b[0m\n",
      "File \u001b[0;32mpandas/_libs/hashtable_class_helper.pxi:2131\u001b[0m, in \u001b[0;36mpandas._libs.hashtable.Int64HashTable.get_item\u001b[0;34m()\u001b[0m\n",
      "File \u001b[0;32mpandas/_libs/hashtable_class_helper.pxi:2140\u001b[0m, in \u001b[0;36mpandas._libs.hashtable.Int64HashTable.get_item\u001b[0;34m()\u001b[0m\n",
      "\u001b[0;31mKeyError\u001b[0m: 1",
      "\nThe above exception was the direct cause of the following exception:\n",
      "\u001b[0;31mKeyError\u001b[0m                                  Traceback (most recent call last)",
      "\u001b[1;32m/home/tzr/DataLinux/Documents/GitHubSYNC/RockWaveAnalysis/shapeClassification/SVM/learn/SVM-sklearn1.ipynb Cell 8\u001b[0m in \u001b[0;36m<cell line: 20>\u001b[0;34m()\u001b[0m\n\u001b[1;32m     <a href='vscode-notebook-cell://ssh-remote%2B7b22686f73744e616d65223a226c696e7578536572766572284c414e2928426c756529227d/home/tzr/DataLinux/Documents/GitHubSYNC/RockWaveAnalysis/shapeClassification/SVM/learn/SVM-sklearn1.ipynb#ch0000007vscode-remote?line=17'>18</a>\u001b[0m plt\u001b[39m.\u001b[39mpcolormesh(x1, x2, grid_hat, cmap\u001b[39m=\u001b[39mcm_light)\n\u001b[1;32m     <a href='vscode-notebook-cell://ssh-remote%2B7b22686f73744e616d65223a226c696e7578536572766572284c414e2928426c756529227d/home/tzr/DataLinux/Documents/GitHubSYNC/RockWaveAnalysis/shapeClassification/SVM/learn/SVM-sklearn1.ipynb#ch0000007vscode-remote?line=18'>19</a>\u001b[0m \u001b[39m## 所有样本点\u001b[39;00m\n\u001b[0;32m---> <a href='vscode-notebook-cell://ssh-remote%2B7b22686f73744e616d65223a226c696e7578536572766572284c414e2928426c756529227d/home/tzr/DataLinux/Documents/GitHubSYNC/RockWaveAnalysis/shapeClassification/SVM/learn/SVM-sklearn1.ipynb#ch0000007vscode-remote?line=19'>20</a>\u001b[0m plt\u001b[39m.\u001b[39mscatter(x[\u001b[39m1\u001b[39;49m], x[\u001b[39m2\u001b[39m], c\u001b[39m=\u001b[39my, edgecolors\u001b[39m=\u001b[39m\u001b[39m'\u001b[39m\u001b[39mk\u001b[39m\u001b[39m'\u001b[39m, s\u001b[39m=\u001b[39m\u001b[39m50\u001b[39m, cmap\u001b[39m=\u001b[39mcm_dark)      \u001b[39m# 样本\u001b[39;00m\n\u001b[1;32m     <a href='vscode-notebook-cell://ssh-remote%2B7b22686f73744e616d65223a226c696e7578536572766572284c414e2928426c756529227d/home/tzr/DataLinux/Documents/GitHubSYNC/RockWaveAnalysis/shapeClassification/SVM/learn/SVM-sklearn1.ipynb#ch0000007vscode-remote?line=20'>21</a>\u001b[0m \u001b[39m## 测试数据集\u001b[39;00m\n\u001b[1;32m     <a href='vscode-notebook-cell://ssh-remote%2B7b22686f73744e616d65223a226c696e7578536572766572284c414e2928426c756529227d/home/tzr/DataLinux/Documents/GitHubSYNC/RockWaveAnalysis/shapeClassification/SVM/learn/SVM-sklearn1.ipynb#ch0000007vscode-remote?line=21'>22</a>\u001b[0m plt\u001b[39m.\u001b[39mscatter(x_test[\u001b[39m0\u001b[39m], x_test[\u001b[39m1\u001b[39m], s\u001b[39m=\u001b[39m\u001b[39m120\u001b[39m, facecolors\u001b[39m=\u001b[39m\u001b[39m'\u001b[39m\u001b[39mnone\u001b[39m\u001b[39m'\u001b[39m, zorder\u001b[39m=\u001b[39m\u001b[39m10\u001b[39m)     \u001b[39m# 圈中测试集样本\u001b[39;00m\n",
      "File \u001b[0;32m~/anaconda3/envs/KNN/lib/python3.9/site-packages/pandas/core/frame.py:3505\u001b[0m, in \u001b[0;36mDataFrame.__getitem__\u001b[0;34m(self, key)\u001b[0m\n\u001b[1;32m   3503\u001b[0m \u001b[39mif\u001b[39;00m \u001b[39mself\u001b[39m\u001b[39m.\u001b[39mcolumns\u001b[39m.\u001b[39mnlevels \u001b[39m>\u001b[39m \u001b[39m1\u001b[39m:\n\u001b[1;32m   3504\u001b[0m     \u001b[39mreturn\u001b[39;00m \u001b[39mself\u001b[39m\u001b[39m.\u001b[39m_getitem_multilevel(key)\n\u001b[0;32m-> 3505\u001b[0m indexer \u001b[39m=\u001b[39m \u001b[39mself\u001b[39;49m\u001b[39m.\u001b[39;49mcolumns\u001b[39m.\u001b[39;49mget_loc(key)\n\u001b[1;32m   3506\u001b[0m \u001b[39mif\u001b[39;00m is_integer(indexer):\n\u001b[1;32m   3507\u001b[0m     indexer \u001b[39m=\u001b[39m [indexer]\n",
      "File \u001b[0;32m~/anaconda3/envs/KNN/lib/python3.9/site-packages/pandas/core/indexes/base.py:3631\u001b[0m, in \u001b[0;36mIndex.get_loc\u001b[0;34m(self, key, method, tolerance)\u001b[0m\n\u001b[1;32m   3629\u001b[0m     \u001b[39mreturn\u001b[39;00m \u001b[39mself\u001b[39m\u001b[39m.\u001b[39m_engine\u001b[39m.\u001b[39mget_loc(casted_key)\n\u001b[1;32m   3630\u001b[0m \u001b[39mexcept\u001b[39;00m \u001b[39mKeyError\u001b[39;00m \u001b[39mas\u001b[39;00m err:\n\u001b[0;32m-> 3631\u001b[0m     \u001b[39mraise\u001b[39;00m \u001b[39mKeyError\u001b[39;00m(key) \u001b[39mfrom\u001b[39;00m \u001b[39merr\u001b[39;00m\n\u001b[1;32m   3632\u001b[0m \u001b[39mexcept\u001b[39;00m \u001b[39mTypeError\u001b[39;00m:\n\u001b[1;32m   3633\u001b[0m     \u001b[39m# If we have a listlike key, _check_indexing_error will raise\u001b[39;00m\n\u001b[1;32m   3634\u001b[0m     \u001b[39m#  InvalidIndexError. Otherwise we fall through and re-raise\u001b[39;00m\n\u001b[1;32m   3635\u001b[0m     \u001b[39m#  the TypeError.\u001b[39;00m\n\u001b[1;32m   3636\u001b[0m     \u001b[39mself\u001b[39m\u001b[39m.\u001b[39m_check_indexing_error(key)\n",
      "\u001b[0;31mKeyError\u001b[0m: 1"
     ]
    },
    {
     "data": {
      "image/png": "[encoded data removed]",
      "text/plain": [
       "<Figure size 640x480 with 1 Axes>"
      ]
     },
     "metadata": {},
     "output_type": "display_data"
    }
   ],
   "source": [
    "N = 500\n",
    "x1_min, x2_min = x.min()\n",
    "x1_max, x2_max = x.max()\n",
    "\n",
    "t1 = np.linspace(x1_min, x1_max, N)\n",
    "t2 = np.linspace(x2_min, x2_max, N)\n",
    "x1, x2 = np.meshgrid(t1, t2)  # 生成网格采样点\n",
    "grid_show = np.dstack((x1.flat, x2.flat))[0] # 测试点\n",
    "\n",
    "\n",
    "grid_hat = clf.predict(grid_show)       # 预测分类值\n",
    "grid_hat = grid_hat.reshape(x1.shape)  # 使之与输入的形状相同\n",
    "\n",
    "cm_light = mpl.colors.ListedColormap(['#00FFCC', '#FFA0A0', '#A0A0FF'])\n",
    "cm_dark = mpl.colors.ListedColormap(['g', 'r', 'b'])\n",
    "plt.figure(facecolor='w')\n",
    "## 区域图\n",
    "plt.pcolormesh(x1, x2, grid_hat, cmap=cm_light)\n",
    "## 所有样本点\n",
    "plt.scatter(x[1], x[2], c=y, edgecolors='k', s=50, cmap=cm_dark)      # 样本\n",
    "## 测试数据集\n",
    "plt.scatter(x_test[0], x_test[1], s=120, facecolors='none', zorder=10)     # 圈中测试集样本\n",
    "## lable列表\n",
    "plt.xlabel(iris_feature[0], fontsize=13)\n",
    "plt.ylabel(iris_feature[1], fontsize=13)\n",
    "plt.xlim(x1_min, x1_max)\n",
    "plt.ylim(x2_min, x2_max)\n",
    "plt.title(u'鸢尾花SVM特征分类', fontsize=16)\n",
    "plt.grid(b=True, ls=':')\n",
    "plt.tight_layout(pad=1.5)\n",
    "plt.show()"
   ]
  }
 ],
 "metadata": {
  "kernelspec": {
   "display_name": "Python 3.9.13 ('KNN')",
   "language": "python",
   "name": "python3"
  },
  "language_info": {
   "codemirror_mode": {
    "name": "ipython",
    "version": 3
   },
   "file_extension": ".py",
   "mimetype": "text/x-python",
   "name": "python",
   "nbconvert_exporter": "python",
   "pygments_lexer": "ipython3",
   "version": "3.9.13"
  },
  "orig_nbformat": 4,
  "vscode": {
   "interpreter": {
    "hash": "b5b752daff17e0bf69700663140c99ce1d03e57d78592962b9d45988231c70e3"
   }
  }
 },
 "nbformat": 4,
 "nbformat_minor": 2
}
