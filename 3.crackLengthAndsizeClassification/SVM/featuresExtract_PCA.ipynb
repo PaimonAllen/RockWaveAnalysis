{
 "cells": [
  {
   "cell_type": "code",
   "execution_count": null,
   "metadata": {},
   "outputs": [],
   "source": [
    "# features extract\n"
   ]
  },
  {
   "cell_type": "code",
   "execution_count": null,
   "metadata": {},
   "outputs": [],
   "source": [
    "# test for one data\n",
    "# load data\n",
    "import numpy as np\n",
    "\n",
    "y1 = np.loadtxt(\"../KNN/dataset/train3-all/10000-1\")\n",
    "print(y1.shape)\n",
    "print(max(y1))\n",
    "print(min(y1))\n"
   ]
  },
  {
   "cell_type": "code",
   "execution_count": 17,
   "metadata": {},
   "outputs": [
    {
     "name": "stdout",
     "output_type": "stream",
     "text": [
      "(8192,)\n",
      "(8192, 1)\n",
      "[[0.        ]\n",
      " [0.        ]\n",
      " [0.        ]\n",
      " ...\n",
      " [0.00608906]\n",
      " [0.00304453]\n",
      " [0.00304453]]\n",
      "(8192, 1)\n",
      "[[ 1.96972357e-05]\n",
      " [ 1.96972357e-05]\n",
      " [ 1.96972357e-05]\n",
      " ...\n",
      " [-6.06935961e-03]\n",
      " [-3.02483119e-03]\n",
      " [-3.02483119e-03]]\n",
      "[   0    1    2 ... 8189 8190 8191]\n"
     ]
    },
    {
     "data": {
      "text/plain": [
       "<matplotlib.collections.PathCollection at 0x7f6faafa6a00>"
      ]
     },
     "execution_count": 17,
     "metadata": {},
     "output_type": "execute_result"
    },
    {
     "data": {
      "image/png": "[encoded data removed]",
      "text/plain": [
       "<Figure size 640x480 with 1 Axes>"
      ]
     },
     "metadata": {},
     "output_type": "display_data"
    }
   ],
   "source": [
    "# test for another data\n",
    "import numpy as np\n",
    "from sklearn.decomposition import PCA\n",
    "import matplotlib as mpl\n",
    "import matplotlib.pyplot as plt\n",
    "\n",
    "y2 = np.loadtxt(\"../KNN/dataset/process/6.crackLengthAndShapeTotal/100-1\")\n",
    "print(y2.shape)\n",
    "\n",
    "pca=PCA(n_components=1)\n",
    "y2=np.array(y2.reshape(-1, 1))\n",
    "print(y2.shape)\n",
    "print(y2)\n",
    "# print(y2)\n",
    "y2_pca=pca.fit_transform(y2)\n",
    "print(y2_pca.shape)\n",
    "print(y2_pca)\n",
    "\n",
    "x=np.arange(8192)\n",
    "print(x)\n",
    "plt.scatter(x,y2_pca)\n",
    "\n"
   ]
  },
  {
   "cell_type": "code",
   "execution_count": null,
   "metadata": {},
   "outputs": [],
   "source": [
    "# features extract\n",
    "import numpy as np\n",
    "from os import listdir\n",
    "FileList = listdir('../KNN/dataset/train3-all/')\n",
    "# 返回文件夹下文件的个数\n",
    "m = len(FileList)\n",
    "# print(FileList)\n",
    "print(m)\n",
    "for i in range(m):\n",
    "    # 获得文件的名字\n",
    "    fileNameStr = FileList[i]\n",
    "    # 获得分类的数字\n",
    "    classNumber = int(fileNameStr.split('-')[1])\n",
    "    # if classNumber == 1:\n",
    "    #     data = np.loadtxt(f\"./dataset/rockshape/train/{fileNameStr}\")\n",
    "    #     # print(data)\n",
    "    #     max_value = max(data)\n",
    "    #     min_value = min(data)\n",
    "    #     # print(min(data))\n",
    "    #     # print(max_value)\n",
    "    #     # print(min_value)\n",
    "    #     saveArr = [max_value, min_value, 1]\n",
    "    #     saveArr = np.array(saveArr, dtype=float).reshape(1, 3)\n",
    "    #     print(saveArr)\n",
    "    #     print(saveArr.ndim)\n",
    "    #     # saveClassName = np.array([1], dtype=int)\n",
    "    #     with open(\"./dataset/rockshape/features_extract/test1.csv\", 'a+') as f:\n",
    "    #         np.savetxt(f, saveArr, delimiter=',')\n",
    "    #         # # np.savetxt(f,)\n",
    "    #         # np.savetxt(f, saveClassName)\n",
    "\n",
    "    #     # with open(\"./dataset/rockshape/features_extract/test1.csv\", 'a+') as f:\n",
    "    data = np.loadtxt(f\"../KNN/dataset/train3-all/{fileNameStr}\")\n",
    "    # print(data)\n",
    "    max_value = max(data)\n",
    "    min_value = min(data)\n",
    "    mean_value=np.mean(data)\n",
    "    range_value=max_value-min_value\n",
    "    # print(min(data))\n",
    "    # print(max_value)\n",
    "    # print(min_value)\n",
    "    saveArr = [max_value, min_value, mean_value,range_value,classNumber]\n",
    "    saveArr = np.array(saveArr, dtype=float).reshape(1, 5)\n",
    "    print(saveArr)\n",
    "    print(saveArr.ndim)\n",
    "    # saveClassName = np.array([1], dtype=int)\n",
    "    with open(\"./dataset/train3/train3.txt\", 'a+') as f:\n",
    "        np.savetxt(f, saveArr, delimiter=',')\n",
    "        # # np.savetxt(f,)\n",
    "        # np.savetxt(f, saveClassName)\n",
    "\n",
    "    # with open(\"./dataset/rockshape/features_extract/test1.csv\", 'a+') as f:\n",
    "            "
   ]
  },
  {
   "cell_type": "code",
   "execution_count": 1,
   "metadata": {},
   "outputs": [
    {
     "name": "stdout",
     "output_type": "stream",
     "text": [
      "194541\n",
      "(194541, 8192)\n",
      "194541\n"
     ]
    }
   ],
   "source": [
    "# -*- coding: UTF-8 -*-\n",
    "import numpy as np\n",
    "# import operator\n",
    "from os import listdir\n",
    "from sklearn.neighbors import KNeighborsClassifier as kNN\n",
    "\n",
    "\"\"\"\n",
    "函数说明:向量转化。\n",
    "\n",
    "Parameters:\n",
    "    filename - 文件名\n",
    "Returns:\n",
    "    returnVect - 返回的二进制图像的向量\n",
    "\n",
    "Modify:\n",
    "    ---\n",
    "\"\"\"\n",
    "\n",
    "\n",
    "def vector(filename):\n",
    "    # 创建向量\n",
    "    returnVect = np.zeros((1, 8192))\n",
    "    # print(returnVect)\n",
    "    # 打开文件\n",
    "    fr = open(filename)\n",
    "    # 按行读取\n",
    "    for i in range(8192):\n",
    "        # 读一行数据\n",
    "        lineStr = fr.readline().strip(\"\\n\")\n",
    "        # print(lineStr)\n",
    "        # 每一行的元素依次添加到returnVect中\n",
    "        returnVect[0][i] = lineStr\n",
    "    # 返回转换后的向量\n",
    "    # print(returnVect)\n",
    "    return returnVect\n",
    "\n",
    "\n",
    "\n",
    "Labels = []\n",
    "# 初始化训练的Mat矩阵,测试集\n",
    "trainingFileList = listdir('../KNN/dataset/process/6.crackLengthAndShapeTotal/')\n",
    "    # print(trainingFileList)\n",
    "    # 返回文件夹下文件的个数\n",
    "m = len(trainingFileList)\n",
    "trainingMat = np.zeros((m, 8192))\n",
    "\n",
    "def dataset():\n",
    "    # 测试集的Labels\n",
    "    \n",
    "    # 错误的数据集\n",
    "    errList = []\n",
    "    # 返回trainingDigits目录下的文件名\n",
    "    trainingFileList = listdir('../KNN/dataset/process/6.crackLengthAndShapeTotal/')\n",
    "    # print(trainingFileList)\n",
    "    # 返回文件夹下文件的个数\n",
    "    m = len(trainingFileList)\n",
    "    print(m)\n",
    "    \n",
    "    # 从文件名中解析出训练集的类别\n",
    "    for i in range(m):\n",
    "        # 获得文件的名字\n",
    "        fileNameStr = trainingFileList[i]\n",
    "        # 获得分类的数字\n",
    "        classNumber = int(fileNameStr.split('-')[1])\n",
    "        # 将获得的类别添加到Labels中\n",
    "        Labels.append(classNumber)\n",
    "        # 将每一个文件的数据存储到trainingMat矩阵中\n",
    "        trainingMat[i, :] = vector(\n",
    "            '../KNN/dataset/process/6.crackLengthAndShapeTotal/%s' % (fileNameStr))\n",
    "        # print(i)\n",
    "        \n",
    "dataset()\n",
    "print(trainingMat.shape)\n",
    "print(len(Labels))\n",
    "    "
   ]
  },
  {
   "cell_type": "code",
   "execution_count": 4,
   "metadata": {},
   "outputs": [
    {
     "name": "stdout",
     "output_type": "stream",
     "text": [
      "(194541, 16)\n"
     ]
    }
   ],
   "source": [
    "from sklearn.decomposition import PCA\n",
    "pca=PCA(n_components=16)\n",
    "trainingMatPAC=pca.fit_transform(trainingMat)\n",
    "print(trainingMatPAC.shape)"
   ]
  },
  {
   "cell_type": "code",
   "execution_count": null,
   "metadata": {},
   "outputs": [],
   "source": [
    "clf = SVC(C=1,kernel='rbf',gamma=0.1)\n",
    "\n",
    "## 模型训练\n",
    "clf.fit(x_train, y_train)"
   ]
  },
  {
   "cell_type": "code",
   "execution_count": null,
   "metadata": {},
   "outputs": [],
   "source": [
    "print (clf.score(x_train, y_train)) \n",
    "print ('训练集准确率：', accuracy_score(y_train, clf.predict(x_train)))\n",
    "print (clf.score(x_test, y_test))\n",
    "print ('测试集准确率：', accuracy_score(y_test, clf.predict(x_test)))"
   ]
  },
  {
   "cell_type": "code",
   "execution_count": null,
   "metadata": {},
   "outputs": [],
   "source": [
    "print ('decision_function:\\n', clf.decision_function(x_train))\n",
    "print ('\\npredict:\\n', clf.predict(x_train))"
   ]
  },
  {
   "cell_type": "code",
   "execution_count": null,
   "metadata": {},
   "outputs": [],
   "source": [
    "N = 500\n",
    "x1_min, x2_min = x.min()-0.2\n",
    "x1_max, x2_max = x.max()+0.2\n",
    "\n",
    "t1 = np.linspace(x1_min, x1_max, N)\n",
    "t2 = np.linspace(x2_min, x2_max, N)\n",
    "x1, x2 = np.meshgrid(t1, t2)  # 生成网格采样点\n",
    "grid_show = np.dstack((x1.flat, x2.flat))[0]  # 测试点\n",
    "\n",
    "\n",
    "grid_hat = clf.predict(grid_show)       # 预测分类值\n",
    "grid_hat = grid_hat.reshape(x1.shape)  # 使之与输入的形状相同\n",
    "\n",
    "cm_light = mpl.colors.ListedColormap(['#00FFCC', '#FFA0A0', '#A0A0FF'])\n",
    "cm_dark = mpl.colors.ListedColormap(['g', 'r', 'b'])\n",
    "plt.figure(facecolor='w')\n",
    "# 区域图\n",
    "plt.pcolormesh(x1, x2, grid_hat, cmap=cm_light)\n",
    "# 所以样本点\n",
    "plt.scatter(x[0], x[1], c=y, edgecolors='k', s=50, cmap=cm_dark)      # 样本\n",
    "# 测试数据集\n",
    "plt.scatter(x_test[0], x_test[1], s=120,\n",
    "            facecolors='none', zorder=10)     # 圈中测试集样本\n",
    "# lable列表\n",
    "plt.xlabel(iris_feature[0], fontsize=13)\n",
    "plt.ylabel(iris_feature[1], fontsize=13)\n",
    "plt.xlim(x1_min, x1_max)\n",
    "plt.ylim(x2_min, x2_max)\n",
    "plt.title('SVM classification for rock', fontsize=16)\n",
    "plt.grid(b=True, ls=':')\n",
    "plt.tight_layout(pad=1.5)\n",
    "plt.show()\n"
   ]
  }
 ],
 "metadata": {
  "kernelspec": {
   "display_name": "Python 3.9.13 ('KNN')",
   "language": "python",
   "name": "python3"
  },
  "language_info": {
   "codemirror_mode": {
    "name": "ipython",
    "version": 3
   },
   "file_extension": ".py",
   "mimetype": "text/x-python",
   "name": "python",
   "nbconvert_exporter": "python",
   "pygments_lexer": "ipython3",
   "version": "3.9.13"
  },
  "orig_nbformat": 4,
  "vscode": {
   "interpreter": {
    "hash": "b5b752daff17e0bf69700663140c99ce1d03e57d78592962b9d45988231c70e3"
   }
  }
 },
 "nbformat": 4,
 "nbformat_minor": 2
}
