{
 "cells": [
  {
   "cell_type": "code",
   "execution_count": 4,
   "metadata": {},
   "outputs": [
    {
     "name": "stdout",
     "output_type": "stream",
     "text": [
      "[1. 2. 1. 2.]\n",
      "[1. 2. 1. 2.]\n"
     ]
    }
   ],
   "source": [
    "# 导入结果矩阵\n",
    "import numpy as np\n",
    "testSet=np.loadtxt(\"./log/testSet.txt\")\n",
    "print(testSet.shape)\n",
    "resSet=np.loadtxt(\"./log/resSet.txt\")\n",
    "print(resSet.shape)\n"
   ]
  },
  {
   "cell_type": "code",
   "execution_count": 6,
   "metadata": {},
   "outputs": [
    {
     "name": "stdout",
     "output_type": "stream",
     "text": [
      "[[2 0]\n",
      " [0 2]]\n"
     ]
    },
    {
     "data": {
      "image/png": "[encoded data removed]",
      "text/plain": [
       "<Figure size 640x480 with 1 Axes>"
      ]
     },
     "metadata": {},
     "output_type": "display_data"
    }
   ],
   "source": [
    "# 绘制混淆矩阵\n",
    "def sklearn_confusion_matrix(ytest, ymodel):\n",
    "    from sklearn.metrics import confusion_matrix\n",
    "    import seaborn as sns\n",
    "    import matplotlib.pyplot as plt\n",
    "    \n",
    "    mat = confusion_matrix(ytest, ymodel)\n",
    "    print(mat)\n",
    "    sns.heatmap(mat, square=True, annot=True, cbar=False, fmt='.20g')\n",
    "    plt.xlabel(u'predicted value')\n",
    "    plt.ylabel('true value')\n",
    "    \n",
    "# 正式\n",
    "sklearn_confusion_matrix(testSet, resSet)\n",
    "# 测试\n",
    "# sklearn_confusion_matrix(testArr, testArr2)\n"
   ]
  },
  {
   "cell_type": "code",
   "execution_count": null,
   "metadata": {},
   "outputs": [
    {
     "name": "stdout",
     "output_type": "stream",
     "text": [
      "precision = 1.0, recall = 1.0, f1 = 1.0\n"
     ]
    }
   ],
   "source": [
    "# 准确率 召回率 F1\n",
    "def get_precision_recall_f1(trues, predicts):\n",
    "    TP = TN = FP = FN = 0\n",
    "    precisioin = recall = f1 = 0\n",
    "    for i in range(len(trues)):\n",
    "        if trues[i] == 2 and predicts[i] == 2:\n",
    "            TP += 1\n",
    "        elif trues[i] == 1 and predicts[i] == 1:\n",
    "            TN += 1\n",
    "        elif trues[i] == 2 and predicts[i] == 1:\n",
    "            FP += 1\n",
    "        elif trues[i] == 1 and predicts[i] == 2:\n",
    "            FN += 1\n",
    "    precision = TP / (TP + FP)\n",
    "    recall = TP / (TP + FN)\n",
    "    f1 = 2*precision*recall / (precision + recall)\n",
    "    return precision, recall, f1\n",
    "\n",
    "# trues = [1, 1, 1, 1, 0, 0, 0, 1, 0, 1, 1, 1, 1, 0, 1, 1, 1, 0, 1, 1]\n",
    "# predicts = [1, 1, 0, 1, 0, 0, 1, 1, 0, 1, 1, 1, 0, 0, 1, 1, 0, 0, 1, 1]\n",
    "# sklearn_confusion_matrix(trues, predicts)\n",
    "    \n",
    "precision, recall, f1 = get_precision_recall_f1(testSet, resSet)\n",
    "print(\"precision = {}, recall = {}, f1 = {}\".format(precision, recall, f1))"
   ]
  }
 ],
 "metadata": {
  "kernelspec": {
   "display_name": "Python 3.9.13 ('KNN')",
   "language": "python",
   "name": "python3"
  },
  "language_info": {
   "codemirror_mode": {
    "name": "ipython",
    "version": 3
   },
   "file_extension": ".py",
   "mimetype": "text/x-python",
   "name": "python",
   "nbconvert_exporter": "python",
   "pygments_lexer": "ipython3",
   "version": "3.9.13"
  },
  "orig_nbformat": 4,
  "vscode": {
   "interpreter": {
    "hash": "b5b752daff17e0bf69700663140c99ce1d03e57d78592962b9d45988231c70e3"
   }
  }
 },
 "nbformat": 4,
 "nbformat_minor": 2
}
