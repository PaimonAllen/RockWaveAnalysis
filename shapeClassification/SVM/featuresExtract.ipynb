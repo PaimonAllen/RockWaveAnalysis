{
 "cells": [
  {
   "cell_type": "code",
   "execution_count": null,
   "metadata": {},
   "outputs": [],
   "source": [
    "# features extract\n"
   ]
  },
  {
   "cell_type": "code",
   "execution_count": 6,
   "metadata": {},
   "outputs": [
    {
     "name": "stdout",
     "output_type": "stream",
     "text": [
      "(8192,)\n",
      "0.7824438214302063\n",
      "-0.803755521774292\n"
     ]
    }
   ],
   "source": [
    "# test for one data\n",
    "# load data\n",
    "import numpy as np\n",
    "\n",
    "y1 = np.loadtxt(\"./dataset/rockshape/train/1-1\")\n",
    "print(y1.shape)\n",
    "print(max(y1))\n",
    "print(min(y1))\n"
   ]
  },
  {
   "cell_type": "code",
   "execution_count": 8,
   "metadata": {},
   "outputs": [
    {
     "name": "stdout",
     "output_type": "stream",
     "text": [
      "(8192,)\n",
      "2.222505807876587\n",
      "-1.820628046989441\n"
     ]
    }
   ],
   "source": [
    "# test for another data\n",
    "import numpy as np\n",
    "\n",
    "y2 = np.loadtxt(\"./dataset/rockshape/train/1-2\")\n",
    "print(y2.shape)\n",
    "print(max(y2))\n",
    "print(min(y2))\n"
   ]
  },
  {
   "cell_type": "code",
   "execution_count": null,
   "metadata": {},
   "outputs": [],
   "source": []
  }
 ],
 "metadata": {
  "kernelspec": {
   "display_name": "Python 3.8.10 64-bit",
   "language": "python",
   "name": "python3"
  },
  "language_info": {
   "codemirror_mode": {
    "name": "ipython",
    "version": 3
   },
   "file_extension": ".py",
   "mimetype": "text/x-python",
   "name": "python",
   "nbconvert_exporter": "python",
   "pygments_lexer": "ipython3",
   "version": "3.8.10"
  },
  "orig_nbformat": 4,
  "vscode": {
   "interpreter": {
    "hash": "916dbcbb3f70747c44a77c7bcd40155683ae19c65e1c03b4aa3499c5328201f1"
   }
  }
 },
 "nbformat": 4,
 "nbformat_minor": 2
}
