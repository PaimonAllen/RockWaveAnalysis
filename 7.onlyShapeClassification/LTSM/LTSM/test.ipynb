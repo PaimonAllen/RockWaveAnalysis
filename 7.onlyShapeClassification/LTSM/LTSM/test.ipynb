{
 "cells": [
  {
   "cell_type": "code",
   "execution_count": null,
   "metadata": {},
   "outputs": [],
   "source": [
    "import torch\n",
    "import torch.nn as nn\n",
    "#定义LTSM网络\n",
    "class Net(nn.Module):\n",
    "    def __init__(self):\n",
    "        super(Net, self).__init__()\n",
    "        self.lstm = nn.LSTM(input_size=8092, hidden_size=10, num_layers=2, batch_first=True)\n",
    "        self.fc = nn.Linear(10, 2)\n",
    " \n",
    "    def forward(self, x):\n",
    "        x, _ = self.lstm(x)\n",
    "        x = self.fc(x[:, -1, :])\n",
    "        return x\n",
    "#定义损失函数和优化器\n",
    "net = Net()\n",
    "criterion = nn.CrossEntropyLoss()\n",
    "optimizer = torch.optim.SGD(net.parameters(), lr=0.01)\n",
    "#训练网络\n",
    "for epoch in range(1000):\n",
    "    #获取输入和标签\n",
    "    inputs = torch.randn(3000, 1, 8092)\n",
    "    labels = torch.LongTensor([0] * 3000)\n",
    " \n",
    "    #梯度清零\n",
    "    optimizer.zero_grad()\n",
    " \n",
    "    #前向传播\n",
    "    outputs = net(inputs)\n",
    " \n",
    "    #计算损失\n",
    "    loss = criterion(outputs, labels)\n",
    " \n",
    "    #反向传播\n",
    "    loss.backward()\n",
    " \n",
    "    #更新参数\n",
    "    optimizer.step()\n",
    " \n",
    "    #打印结果\n",
    "    if (epoch+1) %!!(MISSING)!(MISSING) (MISSING)== 0:\n",
    "        print('Epoch[{}/1000], loss: {:.6f}'.format(epoch+1, loss.item()))"
   ]
  }
 ],
 "metadata": {
  "kernelspec": {
   "display_name": "Python 3.8.12 ('RockLab')",
   "language": "python",
   "name": "python3"
  },
  "language_info": {
   "name": "python",
   "version": "3.8.12"
  },
  "orig_nbformat": 4,
  "vscode": {
   "interpreter": {
    "hash": "b40e8fefbbad258a66ad4b3a1c9d5cec9c956cca3c9d68730a2d3ef07128da02"
   }
  }
 },
 "nbformat": 4,
 "nbformat_minor": 2
}
