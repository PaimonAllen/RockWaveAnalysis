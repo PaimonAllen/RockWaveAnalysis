{
 "cells": [
  {
   "cell_type": "code",
   "execution_count": 1,
   "metadata": {},
   "outputs": [
    {
     "name": "stdout",
     "output_type": "stream",
     "text": [
      "[[0.         0.00304453 0.         ... 0.         0.00304453 0.00608906]]\n",
      "(1, 8192)\n"
     ]
    }
   ],
   "source": [
    "# -*- coding: UTF-8 -*-\n",
    "import numpy as np\n",
    "import operator\n",
    "from os import listdir\n",
    "from sklearn.svm import SVC\n",
    "\n",
    "\"\"\"\n",
    "函数说明:向量转化。\n",
    "\n",
    "Parameters:\n",
    "    filename - 文件名\n",
    "Returns:\n",
    "    returnVect - 返回的二进制原始波形图像的向量\n",
    "\n",
    "Modify:\n",
    "    ---\n",
    "\"\"\"\n",
    "\n",
    "def vector(filename):\n",
    "    # 创建向量\n",
    "    returnVect = np.zeros((1, 8192))\n",
    "    # print(returnVect)\n",
    "    # 打开文件\n",
    "    fr = open(filename)\n",
    "    # 按行读取\n",
    "    for i in range(8192):\n",
    "        # 读一行数据\n",
    "        lineStr = fr.readline().strip(\"\\n\")\n",
    "        # print(lineStr)\n",
    "        # 每一行的前32个元素依次添加到returnVect中\n",
    "        returnVect[0][i] = lineStr\n",
    "    # 返回转换后的向量\n",
    "    print(returnVect)\n",
    "    return returnVect\n",
    "print(vector(\"../../KNN/dataset/test5/1000-1\").shape)"
   ]
  },
  {
   "cell_type": "code",
   "execution_count": 2,
   "metadata": {},
   "outputs": [],
   "source": [
    "# train序列集合\n",
    "trainSet = []\n",
    "# test序列集合\n",
    "testSet = []\n",
    "# 结果序列集合\n",
    "resSet = []\n",
    "\n",
    "def vector(filename):\n",
    "    # 创建向量\n",
    "    returnVect = np.zeros((1, 8192))\n",
    "    # print(returnVect)\n",
    "    # 打开文件\n",
    "    fr = open(filename)\n",
    "    # 按行读取\n",
    "    for i in range(8192):\n",
    "        # 读一行数据\n",
    "        lineStr = fr.readline().strip(\"\\n\")\n",
    "        # print(lineStr)\n",
    "        # 每一行的前32个元素依次添加到returnVect中\n",
    "        returnVect[0][i] = lineStr\n",
    "    # 返回转换后的向量\n",
    "    # print(returnVect)\n",
    "    return returnVect\n",
    "\n",
    "\n",
    "def SignalClassTest():\n",
    "    \"\"\"\n",
    "    分类\n",
    "    Parameters:\n",
    "            无\n",
    "    Returns:\n",
    "            无\n",
    "    \"\"\"\n",
    "    # 测试集的Labels\n",
    "    Labels = []\n",
    "    # 返回trainingDigits目录下的文件名\n",
    "    trainingFileList = listdir('../../KNN/dataset/train5/')\n",
    "    # 返回文件夹下文件的个数\n",
    "    m = len(trainingFileList)\n",
    "    # 初始化训练的Mat矩阵,测试集\n",
    "    trainingMat = np.zeros((m, 8192))\n",
    "    # 从文件名中解析出训练集的类别\n",
    "    for i in range(m):\n",
    "        # 获得文件的名字\n",
    "        fileNameStr = trainingFileList[i]\n",
    "        # 获得分类的数字\n",
    "        classNumber = int(fileNameStr.split('-')[1])\n",
    "        # 将获得的类别添加到hwLabels中\n",
    "        Labels.append(classNumber)\n",
    "        # 将每一个文件的数据存储到trainingMat矩阵中\n",
    "        trainingMat[i, :] = vector(\n",
    "            '../../KNN/dataset/train5/%s' % (fileNameStr))\n",
    "    clf = SVC(C=0.5, kernel='linear')\n",
    "    clf.fit(trainingMat, Labels)\n",
    "    # 返回testDigits目录下的文件列表\n",
    "    testFileList = listdir('../../KNN/dataset/test5/')\n",
    "    # 错误检测计数\n",
    "    errorCount = 0.0\n",
    "    # 测试数据的数量\n",
    "    mTest = len(testFileList)\n",
    "    print(mTest)\n",
    "    # 从文件中解析出测试集的类别并进行分类测试\n",
    "    for i in range(mTest):\n",
    "        # 获得文件的名字\n",
    "        fileNameStr = testFileList[i]\n",
    "        # 获得分类的数字\n",
    "        classNumber = int(fileNameStr.split('-')[1])\n",
    "        # 获得测试集的1x1024向量,用于训练\n",
    "        vectorUnderTest = vector('../../KNN/dataset/test5/%s' % (fileNameStr))\n",
    "        # 获得预测结果\n",
    "        # classifierResult = classify0(vectorUnderTest, trainingMat, hwLabels, 3)\n",
    "        classifierResult = clf.predict(vectorUnderTest)\n",
    "\n",
    "        # print(\"分类返回结果为%d\\t真实结果为%d\" % (classifierResult, classNumber))\n",
    "        # if(classifierResult != classNumber):\n",
    "        #     errorCount += 1.0\n",
    "\n",
    "        # print res\n",
    "        print(classifierResult)\n",
    "        if classifierResult == 1:\n",
    "            res = 'square'\n",
    "            # 加入测试矩阵\n",
    "            testSet.append(classNumber)\n",
    "            # 加入结果矩阵\n",
    "            resSet.append(int(classifierResult))\n",
    "        if classifierResult == 2:\n",
    "            res = 'circle'\n",
    "            # 加入测试矩阵\n",
    "            testSet.append(classNumber)\n",
    "            # 加入结果矩阵\n",
    "            resSet.append(int(classifierResult))\n",
    "        if classNumber == 1:\n",
    "            rockclass = 'square'\n",
    "        if classNumber == 2:\n",
    "            rockclass = 'circle'\n",
    "        print(\"分类返回结果为%s\\t真实结果为%s\" % (res, rockclass))\n",
    "        if (classifierResult != classNumber):\n",
    "            errorCount += 1.0\n",
    "        print(\"目前错误个数：\", errorCount)\n",
    "        print(\"process:{:.2f}%\".format((i/mTest)*100))\n",
    "\n",
    "    print(\"总共错了%d个数据\\n错误率为%f%%，正确率为%f%%\" %\n",
    "          (errorCount, errorCount/mTest * 100, (1 - errorCount/mTest) * 100))\n",
    "\n",
    "\n",
    "if __name__ == '__main__':\n",
    "    SignalClassTest()\n"
   ]
  },
  {
   "cell_type": "code",
   "execution_count": null,
   "metadata": {},
   "outputs": [
    {
     "name": "stdout",
     "output_type": "stream",
     "text": [
      "[[4914    0]\n",
      " [   0 4846]]\n"
     ]
    },
    {
     "data": {
      "image/png": "[encoded data removed]",
      "text/plain": [
       "<Figure size 640x480 with 1 Axes>"
      ]
     },
     "metadata": {},
     "output_type": "display_data"
    }
   ],
   "source": [
    "# 绘制混淆矩阵\n",
    "def sklearn_confusion_matrix(ytest, ymodel):\n",
    "    from sklearn.metrics import confusion_matrix\n",
    "    import seaborn as sns\n",
    "    import matplotlib.pyplot as plt\n",
    "    \n",
    "    mat = confusion_matrix(ytest, ymodel)\n",
    "    print(mat)\n",
    "    sns.heatmap(mat, square=True, annot=True, cbar=False, fmt='.20g')\n",
    "    plt.xlabel(u'predicted value')\n",
    "    plt.ylabel('true value')\n",
    "\n",
    "sklearn_confusion_matrix(testSet, resSet)\n"
   ]
  },
  {
   "cell_type": "code",
   "execution_count": null,
   "metadata": {},
   "outputs": [
    {
     "name": "stdout",
     "output_type": "stream",
     "text": [
      "precision = 1.0, recall = 1.0, f1 = 1.0\n"
     ]
    }
   ],
   "source": [
    "# 准确率 召回率 F1\n",
    "def get_precision_recall_f1(trues, predicts):\n",
    "    TP = TN = FP = FN = 0\n",
    "    precisioin = recall = f1 = 0\n",
    "    for i in range(len(trues)):\n",
    "        if trues[i] == 1 and predicts[i] == 1:\n",
    "            TP += 1\n",
    "        elif trues[i] == 0 and predicts[i] == 0:\n",
    "            TN += 1\n",
    "        elif trues[i] == 1 and predicts[i] == 0:\n",
    "            FP += 1\n",
    "        elif trues[i] == 0 and predicts[i] == 1:\n",
    "            FN += 1\n",
    "    precision = TP / (TP + FP)\n",
    "    recall = TP / (TP + FN)\n",
    "    f1 = 2*precision*recall / (precision + recall)\n",
    "    return precision, recall, f1\n",
    "\n",
    "# trues = [1, 1, 1, 1, 0, 0, 0, 1, 0, 1, 1, 1, 1, 0, 1, 1, 1, 0, 1, 1]\n",
    "# predicts = [1, 1, 0, 1, 0, 0, 1, 1, 0, 1, 1, 1, 0, 0, 1, 1, 0, 0, 1, 1]\n",
    "# sklearn_confusion_matrix(trues, predicts)\n",
    "    \n",
    "precision, recall, f1 = get_precision_recall_f1(testSet, resSet)\n",
    "print(\"precision = {}, recall = {}, f1 = {}\".format(precision, recall, f1))"
   ]
  }
 ],
 "metadata": {
  "kernelspec": {
   "display_name": "Python 3.9.13 ('KNN')",
   "language": "python",
   "name": "python3"
  },
  "language_info": {
   "codemirror_mode": {
    "name": "ipython",
    "version": 3
   },
   "file_extension": ".py",
   "mimetype": "text/x-python",
   "name": "python",
   "nbconvert_exporter": "python",
   "pygments_lexer": "ipython3",
   "version": "3.9.13"
  },
  "orig_nbformat": 4,
  "vscode": {
   "interpreter": {
    "hash": "b5b752daff17e0bf69700663140c99ce1d03e57d78592962b9d45988231c70e3"
   }
  }
 },
 "nbformat": 4,
 "nbformat_minor": 2
}
