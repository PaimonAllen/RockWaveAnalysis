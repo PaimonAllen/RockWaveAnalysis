{
 "cells": [
  {
   "cell_type": "code",
   "execution_count": 1,
   "metadata": {},
   "outputs": [
    {
     "ename": "SyntaxError",
     "evalue": "invalid syntax (2102250642.py, line 45)",
     "output_type": "error",
     "traceback": [
      "\u001b[0;36m  Input \u001b[0;32mIn [1]\u001b[0;36m\u001b[0m\n\u001b[0;31m    if (epoch+1) %! (MISSING) == 0:\u001b[0m\n\u001b[0m                  ^\u001b[0m\n\u001b[0;31mSyntaxError\u001b[0m\u001b[0;31m:\u001b[0m invalid syntax\n"
     ]
    }
   ],
   "source": [
    "import torch\n",
    "import torch.nn as nn\n",
    "#定义神经网络\n",
    "class Net(nn.Module):\n",
    "    def __init__(self):\n",
    "        super(Net, self).__init__()\n",
    "        self.fc1 = nn.Linear(8092, 10)\n",
    "        self.fc2 = nn.Linear(10, 2)\n",
    " \n",
    "    def forward(self, x):\n",
    "        x = self.fc1(x)\n",
    "        x = torch.sigmoid(x)\n",
    "        x = self.fc2(x)\n",
    "        return x\n",
    "#定义损失函数和优化器\n",
    "net = Net()\n",
    "criterion = nn.CrossEntropyLoss()\n",
    "optimizer = torch.optim.SGD(net.parameters(), lr=0.01)\n",
    "#训练网络\n",
    "for epoch in range(1000):\n",
    "    #获取输入和标签\n",
    "    inputs = torch.randn(1, 8092)\n",
    "    labels = torch.LongTensor([0])\n",
    " \n",
    "    #梯度清零\n",
    "    optimizer.zero_grad()\n",
    " \n",
    "    #前向传播\n",
    "    outputs = net(inputs)\n",
    " \n",
    "    #计算损失\n",
    "    loss = criterion(outputs, labels)\n",
    " \n",
    "    #反向传播\n",
    "    loss.backward()\n",
    " \n",
    "    #更新参数\n",
    "    optimizer.step()\n",
    " \n",
    "    #打印结果\n",
    "    if (epoch+1) %!!(MISSING) (MISSING)== 0:\n",
    "        print('Epoch[{}/1000], loss: {:.6f}'.format(epoch+1, loss.item()))"
   ]
  }
 ],
 "metadata": {
  "kernelspec": {
   "display_name": "Python 3.8.12 ('RockLab')",
   "language": "python",
   "name": "python3"
  },
  "language_info": {
   "codemirror_mode": {
    "name": "ipython",
    "version": 3
   },
   "file_extension": ".py",
   "mimetype": "text/x-python",
   "name": "python",
   "nbconvert_exporter": "python",
   "pygments_lexer": "ipython3",
   "version": "3.8.12"
  },
  "orig_nbformat": 4,
  "vscode": {
   "interpreter": {
    "hash": "b40e8fefbbad258a66ad4b3a1c9d5cec9c956cca3c9d68730a2d3ef07128da02"
   }
  }
 },
 "nbformat": 4,
 "nbformat_minor": 2
}
