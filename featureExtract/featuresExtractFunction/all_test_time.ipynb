{
 "cells": [
  {
   "cell_type": "code",
   "execution_count": 2,
   "metadata": {},
   "outputs": [
    {
     "name": "stdout",
     "output_type": "stream",
     "text": [
      "(8192,)\n",
      "[0.105, 1.574, 7.398, 2.701, 19.981, 55.577, 18.932, 1.0034454021479178e-05]\n"
     ]
    }
   ],
   "source": [
    "# 时域信号特征提取\n",
    "import pandas as pd\n",
    "import numpy as np\n",
    "\n",
    "\n",
    "def psfeatureTime(data):\n",
    "    # 最大值\n",
    "    df_max = data.max()\n",
    "    # 最小值\n",
    "    df_min = data.min()\n",
    "    # 均值\n",
    "    df_mean = data.mean()\n",
    "    # 方差和标准差\n",
    "    df_var = data.var()\n",
    "    df_std = data.std()\n",
    "    # 均方根\n",
    "    df_rms = np.sqrt(pow(df_mean, 2) + pow(df_std, 2))\n",
    "    # 峰峰值\n",
    "    fengfengzhi = max(data)-min(data)\n",
    "\n",
    "    # 无量纲\n",
    "    # 偏度\n",
    "    df_skew = pd.Series(data).skew()\n",
    "    # 峰度\n",
    "    df_kurt = pd.Series(data).kurt()\n",
    "    sum = 0\n",
    "    for i in range(len(data)):\n",
    "        sum += np.sqrt(abs(data[i]))\n",
    "    # 波形因子\n",
    "    df_boxing = df_rms / (abs(data).mean())\n",
    "    # 峰值因子\n",
    "    df_fengzhi = (max(data)) / df_rms\n",
    "    # 脉冲因子\n",
    "    df_maichong = (max(data)) / (abs(data).mean())\n",
    "    # 裕度因子\n",
    "    df_yudu = max(data) / pow(sum/(len(data)), 2)\n",
    "    # 峭度\n",
    "    df_qiaodu = (np.sum([x**4 for x in data])/len(data)) / pow(df_rms, 4)\n",
    "    featuretime_list = [round(df_rms, 3), round(fengfengzhi, 3), round(df_fengzhi, 3), round(\n",
    "        df_boxing, 3), round(df_maichong, 3), round(df_yudu, 3), round(df_qiaodu, 3),df_mean]\n",
    "    return featuretime_list\n",
    "\n",
    "\n",
    "if __name__ == '__main__':\n",
    "\n",
    "    # test for one data\n",
    "    y1 = np.loadtxt(\n",
    "    \"../../1.shapeClassification/KNN/dataset/processAndTemp/1.shapeTotal/1-1\")\n",
    "    print(y1.shape)\n",
    "    # print(max(y1))\n",
    "    p1 = psfeatureTime(y1)\n",
    "    print(p1)\n"
   ]
  }
 ],
 "metadata": {
  "kernelspec": {
   "display_name": "Python 3.9.13 ('KNN')",
   "language": "python",
   "name": "python3"
  },
  "language_info": {
   "codemirror_mode": {
    "name": "ipython",
    "version": 3
   },
   "file_extension": ".py",
   "mimetype": "text/x-python",
   "name": "python",
   "nbconvert_exporter": "python",
   "pygments_lexer": "ipython3",
   "version": "3.9.13"
  },
  "orig_nbformat": 4,
  "vscode": {
   "interpreter": {
    "hash": "b5b752daff17e0bf69700663140c99ce1d03e57d78592962b9d45988231c70e3"
   }
  }
 },
 "nbformat": 4,
 "nbformat_minor": 2
}
