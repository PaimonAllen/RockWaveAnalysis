{
 "cells": [
  {
   "cell_type": "code",
   "execution_count": null,
   "metadata": {},
   "outputs": [],
   "source": [
    "import os\n",
    "\n",
    "# current_directory = os.path.dirname(os.path.abspath('__file__'))\n",
    "\n",
    "PATH = os.path.abspath(os.path.join(os.getcwd(), \"dataset/processAndTemp/circle\"))\n",
    "print(PATH)"
   ]
  },
  {
   "cell_type": "markdown",
   "metadata": {},
   "source": [
    "Rename"
   ]
  },
  {
   "cell_type": "code",
   "execution_count": 6,
   "metadata": {},
   "outputs": [
    {
     "name": "stdout",
     "output_type": "stream",
     "text": [
      "/home/tzr/DataLinux/Documents/GitHubSYNC/RockWaveAnalysis/1.shapeClassification/KNN/dataset/processAndTemp/ExtractAll/circle/1000-1\n",
      "/home/tzr/DataLinux/Documents/GitHubSYNC/RockWaveAnalysis/1.shapeClassification/KNN/dataset/processAndTemp/ExtractAll/circle/1000-2\n",
      "/home/tzr/DataLinux/Documents/GitHubSYNC/RockWaveAnalysis/1.shapeClassification/KNN/dataset/processAndTemp/ExtractAll/circle/10000-1\n",
      "/home/tzr/DataLinux/Documents/GitHubSYNC/RockWaveAnalysis/1.shapeClassification/KNN/dataset/processAndTemp/ExtractAll/circle/10000-2\n",
      "/home/tzr/DataLinux/Documents/GitHubSYNC/RockWaveAnalysis/1.shapeClassification/KNN/dataset/processAndTemp/ExtractAll/circle/10001-1\n",
      "/home/tzr/DataLinux/Documents/GitHubSYNC/RockWaveAnalysis/1.shapeClassification/KNN/dataset/processAndTemp/ExtractAll/circle/10001-2\n",
      "/home/tzr/DataLinux/Documents/GitHubSYNC/RockWaveAnalysis/1.shapeClassification/KNN/dataset/processAndTemp/ExtractAll/circle/10002-1\n",
      "/home/tzr/DataLinux/Documents/GitHubSYNC/RockWaveAnalysis/1.shapeClassification/KNN/dataset/processAndTemp/ExtractAll/circle/10002-2\n",
      "/home/tzr/DataLinux/Documents/GitHubSYNC/RockWaveAnalysis/1.shapeClassification/KNN/dataset/processAndTemp/ExtractAll/circle/10003-1\n",
      "/home/tzr/DataLinux/Documents/GitHubSYNC/RockWaveAnalysis/1.shapeClassification/KNN/dataset/processAndTemp/ExtractAll/circle/10003-2\n",
      "/home/tzr/DataLinux/Documents/GitHubSYNC/RockWaveAnalysis/1.shapeClassification/KNN/dataset/processAndTemp/ExtractAll/circle/10004-1\n",
      "/home/tzr/DataLinux/Documents/GitHubSYNC/RockWaveAnalysis/1.shapeClassification/KNN/dataset/processAndTemp/ExtractAll/circle/10004-2\n",
      "/home/tzr/DataLinux/Documents/GitHubSYNC/RockWaveAnalysis/1.shapeClassification/KNN/dataset/processAndTemp/ExtractAll/circle/10005-1\n",
      "/home/tzr/DataLinux/Documents/GitHubSYNC/RockWaveAnalysis/1.shapeClassification/KNN/dataset/processAndTemp/ExtractAll/circle/10005-2\n",
      "/home/tzr/DataLinux/Documents/GitHubSYNC/RockWaveAnalysis/1.shapeClassification/KNN/dataset/processAndTemp/ExtractAll/circle/10006-1\n",
      "/home/tzr/DataLinux/Documents/GitHubSYNC/RockWaveAnalysis/1.shapeClassification/KNN/dataset/processAndTemp/ExtractAll/circle/10006-2\n",
      "/home/tzr/DataLinux/Documents/GitHubSYNC/RockWaveAnalysis/1.shapeClassification/KNN/dataset/processAndTemp/ExtractAll/circle/10007-1\n",
      "/home/tzr/DataLinux/Documents/GitHubSYNC/RockWaveAnalysis/1.shapeClassification/KNN/dataset/processAndTemp/ExtractAll/circle/10007-2\n",
      "/home/tzr/DataLinux/Documents/GitHubSYNC/RockWaveAnalysis/1.shapeClassification/KNN/dataset/processAndTemp/ExtractAll/circle/10008-1\n",
      "/home/tzr/DataLinux/Documents/GitHubSYNC/RockWaveAnalysis/1.shapeClassification/KNN/dataset/processAndTemp/ExtractAll/circle/10008-2\n",
      "/home/tzr/DataLinux/Documents/GitHubSYNC/RockWaveAnalysis/1.shapeClassification/KNN/dataset/processAndTemp/ExtractAll/circle/10009-1\n",
      "/home/tzr/DataLinux/Documents/GitHubSYNC/RockWaveAnalysis/1.shapeClassification/KNN/dataset/processAndTemp/ExtractAll/circle/10009-2\n",
      "/home/tzr/DataLinux/Documents/GitHubSYNC/RockWaveAnalysis/1.shapeClassification/KNN/dataset/processAndTemp/ExtractAll/circle/11000-1\n",
      "/home/tzr/DataLinux/Documents/GitHubSYNC/RockWaveAnalysis/1.shapeClassification/KNN/dataset/processAndTemp/ExtractAll/circle/11000-2\n",
      "/home/tzr/DataLinux/Documents/GitHubSYNC/RockWaveAnalysis/1.shapeClassification/KNN/dataset/processAndTemp/ExtractAll/circle/21000-1\n",
      "/home/tzr/DataLinux/Documents/GitHubSYNC/RockWaveAnalysis/1.shapeClassification/KNN/dataset/processAndTemp/ExtractAll/circle/21000-2\n",
      "/home/tzr/DataLinux/Documents/GitHubSYNC/RockWaveAnalysis/1.shapeClassification/KNN/dataset/processAndTemp/ExtractAll/circle/31000-1\n",
      "/home/tzr/DataLinux/Documents/GitHubSYNC/RockWaveAnalysis/1.shapeClassification/KNN/dataset/processAndTemp/ExtractAll/circle/31000-2\n",
      "/home/tzr/DataLinux/Documents/GitHubSYNC/RockWaveAnalysis/1.shapeClassification/KNN/dataset/processAndTemp/ExtractAll/circle/41000-1\n",
      "/home/tzr/DataLinux/Documents/GitHubSYNC/RockWaveAnalysis/1.shapeClassification/KNN/dataset/processAndTemp/ExtractAll/circle/41000-2\n",
      "/home/tzr/DataLinux/Documents/GitHubSYNC/RockWaveAnalysis/1.shapeClassification/KNN/dataset/processAndTemp/ExtractAll/circle/51000-1\n",
      "/home/tzr/DataLinux/Documents/GitHubSYNC/RockWaveAnalysis/1.shapeClassification/KNN/dataset/processAndTemp/ExtractAll/circle/51000-2\n",
      "/home/tzr/DataLinux/Documents/GitHubSYNC/RockWaveAnalysis/1.shapeClassification/KNN/dataset/processAndTemp/ExtractAll/circle/61000-1\n",
      "/home/tzr/DataLinux/Documents/GitHubSYNC/RockWaveAnalysis/1.shapeClassification/KNN/dataset/processAndTemp/ExtractAll/circle/61000-2\n",
      "/home/tzr/DataLinux/Documents/GitHubSYNC/RockWaveAnalysis/1.shapeClassification/KNN/dataset/processAndTemp/ExtractAll/circle/71000-1\n",
      "/home/tzr/DataLinux/Documents/GitHubSYNC/RockWaveAnalysis/1.shapeClassification/KNN/dataset/processAndTemp/ExtractAll/circle/71000-2\n",
      "/home/tzr/DataLinux/Documents/GitHubSYNC/RockWaveAnalysis/1.shapeClassification/KNN/dataset/processAndTemp/ExtractAll/circle/81000-1\n",
      "/home/tzr/DataLinux/Documents/GitHubSYNC/RockWaveAnalysis/1.shapeClassification/KNN/dataset/processAndTemp/ExtractAll/circle/81000-2\n",
      "82930\n"
     ]
    }
   ],
   "source": [
    "# -*- coding: utf-8 -*-\n",
    "\n",
    "import os\n",
    "import shutil\n",
    "\n",
    "\n",
    "# current_directory = os.path.dirname(os.path.abspath('__file__'))\n",
    "\n",
    "# 基于当前文件所在路径，转化为绝对路径\n",
    "PATH = os.path.abspath(os.path.join(\n",
    "    os.getcwd(), \"dataset/processAndTemp/ExtractAll/circle/\"))\n",
    "\n",
    "\n",
    "def rename_file(oldname, val):\n",
    "    oldname = os.path.join(PATH, oldname)\n",
    "    # newname = oldname\n",
    "    # print(oldname)\n",
    "    # newname = f'{val}-2'\n",
    "    # if \"-3\" in oldname:\n",
    "    # print(val['a'])\n",
    "    # a = val['a']\n",
    "    # newname = oldname + '-1'\n",
    "    # newname = os.path.join(PATH,newname)+'.txt'\n",
    "    # newname = os.path.join(PATH, newname)\n",
    "    # # rename\n",
    "    # newname = oldname.replace(\"-3\",\"-2\")\n",
    "    # os.rename(oldname, newname)\n",
    "    # print(\"oldname -------------> newname\")\n",
    "    # print(oldname)\n",
    "    # print(newname)\n",
    "    # val['a'] = val['a'] + 1\n",
    "    # shutil.move(oldname, newname)\n",
    "    # if \"-4\" in oldname:\n",
    "    # print(val['a'])\n",
    "    # a = val['a']\n",
    "    # newname = oldname + '-1'\n",
    "    # newname = os.path.join(PATH,newname)+'.txt'\n",
    "    # newname = os.path.join(PATH, newname)\n",
    "    # # rename\n",
    "    # newname = oldname.replace(\"-4\",\"-1\")\n",
    "    # os.rename(oldname, newname)\n",
    "    # print(oldname)\n",
    "    # print(newname)\n",
    "    # val['a'] = val['a'] + 1\n",
    "\n",
    "    newname = oldname.replace(\"-1\",\"-2\")\n",
    "    val['a'] = val['a'] + 1\n",
    "    if \"1000\" in oldname:\n",
    "        print(oldname)\n",
    "        print(newname)\n",
    "    os.rename(oldname, newname)\n",
    "    # print(\"oldname -------------> newname\")\n",
    "    # print(oldname)\n",
    "    # print(newname)\n",
    "\n",
    "\n",
    "if __name__ == \"__main__\":\n",
    "    fileList = os.listdir(PATH)\n",
    "    fileList.sort()\n",
    "    # print(fileList)\n",
    "    # i = 1\n",
    "    val = {'a': 0}\n",
    "    for name in fileList:\n",
    "        # print(i)\n",
    "        rename_file(name, val)\n",
    "        # i += 1\n",
    "    print(val[\"a\"])\n"
   ]
  },
  {
   "cell_type": "markdown",
   "metadata": {},
   "source": [
    "取训练和测试\n",
    "\n",
    "采用 7:3"
   ]
  },
  {
   "cell_type": "code",
   "execution_count": 9,
   "metadata": {},
   "outputs": [
    {
     "name": "stdout",
     "output_type": "stream",
     "text": [
      "/home/tzr/DataLinux/Documents/GitHubSYNC/RockWaveAnalysis/1.shapeClassification/KNN/dataset/train4\n",
      "/home/tzr/DataLinux/Documents/GitHubSYNC/RockWaveAnalysis/1.shapeClassification/KNN/dataset/test4\n"
     ]
    }
   ],
   "source": [
    "# 随机训练文件\n",
    "# # -*- coding:utf-8 -*-\n",
    "# \"\"\"\n",
    "# 作者：sunli\n",
    "# 日期：2022年03月14日14:06\n",
    "# \"\"\"\n",
    "\n",
    "import os\n",
    "import random\n",
    "import shutil\n",
    "\n",
    "\n",
    "def moveFile(fileDir, trainDir):\n",
    "    pathDir = os.listdir(fileDir)  # 取数据的原始路径\n",
    "    filenumber = len(pathDir)\n",
    "    # rate1 = 0.8  # 自定义抽取文件的比例，比方说100张抽80个，那就是0.8\n",
    "    rate1 = 0.3\n",
    "    picknumber1 = int(filenumber*rate1)  # 按照rate比例从文件夹中取一定数量的文件\n",
    "    sample1 = random.sample(pathDir, picknumber1)  # 随机选取picknumber数量的样本\n",
    "    print(fileDir)\n",
    "    print(trainDir)\n",
    "    for name in sample1:\n",
    "        shutil.move(fileDir + '/' + name, trainDir + \"/\" + name)\n",
    "        # print(name)\n",
    "\n",
    "\n",
    "if __name__ == '__main__':\n",
    "    # 基于当前文件所在路径，转化为绝对路径\n",
    "    PATH = os.path.abspath(os.path.join(os.getcwd()))\n",
    "    fileDir = PATH + \"/dataset/train4\"\n",
    "    testDir = PATH + \"/dataset/test4\"\n",
    "    moveFile(fileDir, testDir)\n",
    "    # print(fileDir)\n",
    "    # print(trainDir)\n"
   ]
  },
  {
   "cell_type": "code",
   "execution_count": null,
   "metadata": {},
   "outputs": [],
   "source": [
    "# 随机训练文件(移动)\n",
    "# # -*- coding:utf-8 -*-\n",
    "\n",
    "import os\n",
    "import random\n",
    "import shutil\n",
    "\n",
    "\n",
    "def moveFile(fileDir, trainDir):\n",
    "    pathDir = os.listdir(fileDir)  # 取数据的原始路径\n",
    "    filenumber = len(pathDir)\n",
    "    # rate1 = 0.8  # 自定义抽取文件的比例，比方说100张抽80个，那就是0.8\n",
    "    rate1 = 0.7\n",
    "    picknumber1 = int(filenumber*rate1)  # 按照rate比例从文件夹中取一定数量的文件\n",
    "    sample1 = random.sample(pathDir, picknumber1)  # 随机选取picknumber数量的样本\n",
    "    for name in sample1:\n",
    "        shutil.move(fileDir + '/' + name, trainDir + \"/\" + name)\n",
    "\n",
    "\n",
    "if __name__ == '__main__':\n",
    "    # 基于当前文件所在路径，转化为绝对路径\n",
    "    PATH = os.path.abspath(os.path.join(os.getcwd()))\n",
    "    fileDir = PATH + \"/dataset/processAndTemp/All_copy\"\n",
    "    trainDir = PATH + \"/dataset/train\"\n",
    "    moveFile(fileDir, trainDir)\n",
    "    # print(fileDir)\n",
    "    # print(trainDir)\n"
   ]
  }
 ],
 "metadata": {
  "kernelspec": {
   "display_name": "Python 3.8.8 ('base')",
   "language": "python",
   "name": "python3"
  },
  "language_info": {
   "codemirror_mode": {
    "name": "ipython",
    "version": 3
   },
   "file_extension": ".py",
   "mimetype": "text/x-python",
   "name": "python",
   "nbconvert_exporter": "python",
   "pygments_lexer": "ipython3",
   "version": "3.8.8"
  },
  "orig_nbformat": 4,
  "vscode": {
   "interpreter": {
    "hash": "c52bcbb7def5b96a9cc46b52ae06652695ca9548d39c6066022a068ff445d205"
   }
  }
 },
 "nbformat": 4,
 "nbformat_minor": 2
}
