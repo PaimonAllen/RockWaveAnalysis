{
 "cells": [
  {
   "cell_type": "code",
   "execution_count": 3,
   "metadata": {},
   "outputs": [
    {
     "name": "stdout",
     "output_type": "stream",
     "text": [
      "(8192,)\n",
      "0.7793992757797241\n",
      "0nums: 5324\n",
      "-------------\n",
      "0.0\n",
      "(8192,)\n",
      "2.0428786277770996\n",
      "0nums: 4850\n",
      "0.0\n"
     ]
    }
   ],
   "source": [
    "# test\n",
    "\n",
    "# test for one data\n",
    "# load data\n",
    "import numpy as np\n",
    "\n",
    "y1 = np.loadtxt(\n",
    "    \"../../1.shapeClassification/KNN/dataset/processAndTemp/1.shapeTotal/1-1\")\n",
    "print(y1.shape)\n",
    "print(max(y1))\n",
    "nums = 0\n",
    "for i in y1:\n",
    "    # print(i)\n",
    "    if i - 0 < 0.00000001:\n",
    "        nums += 1\n",
    "        \n",
    "print('0nums:',nums)\n",
    "print('-------------')\n",
    "y1.sort()\n",
    "print(np.median(y1))\n",
    "\n",
    "y2 = np.loadtxt(\n",
    "    \"../../1.shapeClassification/KNN/dataset/processAndTemp/1.shapeTotal/1-2\")\n",
    "print(y2.shape)\n",
    "print(max(y2))\n",
    "nums = 0\n",
    "for i in y2:\n",
    "    # print(i)\n",
    "    if i - 0 < 0.00000001:\n",
    "        nums += 1\n",
    "        \n",
    "print('0nums:',nums)\n",
    "print(np.median(y2))\n"
   ]
  }
 ],
 "metadata": {
  "kernelspec": {
   "display_name": "Python 3.9.13 ('KNN')",
   "language": "python",
   "name": "python3"
  },
  "language_info": {
   "codemirror_mode": {
    "name": "ipython",
    "version": 3
   },
   "file_extension": ".py",
   "mimetype": "text/x-python",
   "name": "python",
   "nbconvert_exporter": "python",
   "pygments_lexer": "ipython3",
   "version": "3.9.13"
  },
  "orig_nbformat": 4,
  "vscode": {
   "interpreter": {
    "hash": "b5b752daff17e0bf69700663140c99ce1d03e57d78592962b9d45988231c70e3"
   }
  }
 },
 "nbformat": 4,
 "nbformat_minor": 2
}
