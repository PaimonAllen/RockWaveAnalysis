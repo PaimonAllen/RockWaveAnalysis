{
 "cells": [
  {
   "cell_type": "code",
   "execution_count": 11,
   "metadata": {},
   "outputs": [
    {
     "name": "stdout",
     "output_type": "stream",
     "text": [
      "0.9609375\n",
      "0.953125\n"
     ]
    }
   ],
   "source": [
    "training_step = 10  # 迭代次数\n",
    "batch_size = 64  # 每个批次的大小\n",
    "n_splits = 5\n",
    "random_state = 114\n",
    "# kf = KFold(n_splits=5, shuffle=True, random_state=114)  # 5折交叉验证\n",
    "dropout = float(training_step+batch_size/8 +\n",
    "                    batch_size + (n_splits-3))/batch_size-(5*n_splits-n_splits/2)/batch_size\n",
    "print(dropout)\n",
    "dropout_r = float(training_step+batch_size/8 +\n",
    "                    batch_size + (n_splits-3))/batch_size-(5*n_splits-n_splits/2+0.5)/batch_size\n",
    "print(dropout_r)"
   ]
  }
 ],
 "metadata": {
  "kernelspec": {
   "display_name": "Python 3.8.12 ('RockLabTorch')",
   "language": "python",
   "name": "python3"
  },
  "language_info": {
   "codemirror_mode": {
    "name": "ipython",
    "version": 3
   },
   "file_extension": ".py",
   "mimetype": "text/x-python",
   "name": "python",
   "nbconvert_exporter": "python",
   "pygments_lexer": "ipython3",
   "version": "3.8.12"
  },
  "orig_nbformat": 4,
  "vscode": {
   "interpreter": {
    "hash": "527e757e1c587730d72dfd6dc7ea9b8408877a8a8e3b307a272307089f882730"
   }
  }
 },
 "nbformat": 4,
 "nbformat_minor": 2
}
