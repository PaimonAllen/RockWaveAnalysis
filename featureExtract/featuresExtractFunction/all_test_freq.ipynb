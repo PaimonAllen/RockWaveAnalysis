{
 "cells": [
  {
   "cell_type": "code",
   "execution_count": 2,
   "metadata": {},
   "outputs": [
    {
     "name": "stdout",
     "output_type": "stream",
     "text": [
      "(8192,)\n",
      "0.7793992757797241\n"
     ]
    },
    {
     "ename": "TypeError",
     "evalue": "'float' object cannot be interpreted as an integer",
     "output_type": "error",
     "traceback": [
      "\u001b[0;31m---------------------------------------------------------------------------\u001b[0m",
      "\u001b[0;31mTypeError\u001b[0m                                 Traceback (most recent call last)",
      "\u001b[1;32m/home/tzr/DataLinux/Documents/GitHubSYNC/RockWaveAnalysis/featureExtract/featuresExtractFunction/all_test_freq.ipynb Cell 1\u001b[0m in \u001b[0;36m<cell line: 29>\u001b[0;34m()\u001b[0m\n\u001b[1;32m     <a href='vscode-notebook-cell://ssh-remote%2B7b22686f73744e616d65223a226c696e75785365727665722857414e2d4672702928426c756529227d/home/tzr/DataLinux/Documents/GitHubSYNC/RockWaveAnalysis/featureExtract/featuresExtractFunction/all_test_freq.ipynb#ch0000000vscode-remote?line=26'>27</a>\u001b[0m \u001b[39mprint\u001b[39m(y1\u001b[39m.\u001b[39mshape)\n\u001b[1;32m     <a href='vscode-notebook-cell://ssh-remote%2B7b22686f73744e616d65223a226c696e75785365727665722857414e2d4672702928426c756529227d/home/tzr/DataLinux/Documents/GitHubSYNC/RockWaveAnalysis/featureExtract/featuresExtractFunction/all_test_freq.ipynb#ch0000000vscode-remote?line=27'>28</a>\u001b[0m \u001b[39mprint\u001b[39m(\u001b[39mmax\u001b[39m(y1))\n\u001b[0;32m---> <a href='vscode-notebook-cell://ssh-remote%2B7b22686f73744e616d65223a226c696e75785365727665722857414e2d4672702928426c756529227d/home/tzr/DataLinux/Documents/GitHubSYNC/RockWaveAnalysis/featureExtract/featuresExtractFunction/all_test_freq.ipynb#ch0000000vscode-remote?line=28'>29</a>\u001b[0m \u001b[39mprint\u001b[39m(get_fft_power_spectrum(\u001b[39m1\u001b[39;49m,\u001b[39m8092\u001b[39;49m,\u001b[39m20000\u001b[39;49m,\u001b[39m2\u001b[39;49m))\n",
      "\u001b[1;32m/home/tzr/DataLinux/Documents/GitHubSYNC/RockWaveAnalysis/featureExtract/featuresExtractFunction/all_test_freq.ipynb Cell 1\u001b[0m in \u001b[0;36mget_fft_power_spectrum\u001b[0;34m(y_values, N, f_s, f)\u001b[0m\n\u001b[1;32m      <a href='vscode-notebook-cell://ssh-remote%2B7b22686f73744e616d65223a226c696e75785365727665722857414e2d4672702928426c756529227d/home/tzr/DataLinux/Documents/GitHubSYNC/RockWaveAnalysis/featureExtract/featuresExtractFunction/all_test_freq.ipynb#ch0000000vscode-remote?line=3'>4</a>\u001b[0m \u001b[39mdef\u001b[39;00m \u001b[39mget_fft_power_spectrum\u001b[39m(y_values, N, f_s, f):\n\u001b[0;32m----> <a href='vscode-notebook-cell://ssh-remote%2B7b22686f73744e616d65223a226c696e75785365727665722857414e2d4672702928426c756529227d/home/tzr/DataLinux/Documents/GitHubSYNC/RockWaveAnalysis/featureExtract/featuresExtractFunction/all_test_freq.ipynb#ch0000000vscode-remote?line=4'>5</a>\u001b[0m     f_values \u001b[39m=\u001b[39m np\u001b[39m.\u001b[39;49mlinspace(\u001b[39m0.0\u001b[39;49m, f_s\u001b[39m/\u001b[39;49mf, N\u001b[39m/\u001b[39;49mf)\n\u001b[1;32m      <a href='vscode-notebook-cell://ssh-remote%2B7b22686f73744e616d65223a226c696e75785365727665722857414e2d4672702928426c756529227d/home/tzr/DataLinux/Documents/GitHubSYNC/RockWaveAnalysis/featureExtract/featuresExtractFunction/all_test_freq.ipynb#ch0000000vscode-remote?line=5'>6</a>\u001b[0m     fft_values_ \u001b[39m=\u001b[39m np\u001b[39m.\u001b[39mabs(fft(y_values))\n\u001b[1;32m      <a href='vscode-notebook-cell://ssh-remote%2B7b22686f73744e616d65223a226c696e75785365727665722857414e2d4672702928426c756529227d/home/tzr/DataLinux/Documents/GitHubSYNC/RockWaveAnalysis/featureExtract/featuresExtractFunction/all_test_freq.ipynb#ch0000000vscode-remote?line=6'>7</a>\u001b[0m     fft_values \u001b[39m=\u001b[39m \u001b[39m2.0\u001b[39m\u001b[39m/\u001b[39mN \u001b[39m*\u001b[39m (fft_values_[\u001b[39m0\u001b[39m:N\u001b[39m/\u001b[39m\u001b[39m2\u001b[39m])    \u001b[39m# 频率真实幅值分布，单边频谱图，再把所有点频率大小表示出来*2\u001b[39;00m\n",
      "File \u001b[0;32m<__array_function__ internals>:180\u001b[0m, in \u001b[0;36mlinspace\u001b[0;34m(*args, **kwargs)\u001b[0m\n",
      "File \u001b[0;32m~/anaconda3/envs/KNN/lib/python3.9/site-packages/numpy/core/function_base.py:120\u001b[0m, in \u001b[0;36mlinspace\u001b[0;34m(start, stop, num, endpoint, retstep, dtype, axis)\u001b[0m\n\u001b[1;32m     23\u001b[0m \u001b[39m@array_function_dispatch\u001b[39m(_linspace_dispatcher)\n\u001b[1;32m     24\u001b[0m \u001b[39mdef\u001b[39;00m \u001b[39mlinspace\u001b[39m(start, stop, num\u001b[39m=\u001b[39m\u001b[39m50\u001b[39m, endpoint\u001b[39m=\u001b[39m\u001b[39mTrue\u001b[39;00m, retstep\u001b[39m=\u001b[39m\u001b[39mFalse\u001b[39;00m, dtype\u001b[39m=\u001b[39m\u001b[39mNone\u001b[39;00m,\n\u001b[1;32m     25\u001b[0m              axis\u001b[39m=\u001b[39m\u001b[39m0\u001b[39m):\n\u001b[1;32m     26\u001b[0m \u001b[39m    \u001b[39m\u001b[39m\"\"\"\u001b[39;00m\n\u001b[1;32m     27\u001b[0m \u001b[39m    Return evenly spaced numbers over a specified interval.\u001b[39;00m\n\u001b[1;32m     28\u001b[0m \n\u001b[0;32m   (...)\u001b[0m\n\u001b[1;32m    118\u001b[0m \n\u001b[1;32m    119\u001b[0m \u001b[39m    \"\"\"\u001b[39;00m\n\u001b[0;32m--> 120\u001b[0m     num \u001b[39m=\u001b[39m operator\u001b[39m.\u001b[39;49mindex(num)\n\u001b[1;32m    121\u001b[0m     \u001b[39mif\u001b[39;00m num \u001b[39m<\u001b[39m \u001b[39m0\u001b[39m:\n\u001b[1;32m    122\u001b[0m         \u001b[39mraise\u001b[39;00m \u001b[39mValueError\u001b[39;00m(\u001b[39m\"\u001b[39m\u001b[39mNumber of samples, \u001b[39m\u001b[39m%s\u001b[39;00m\u001b[39m, must be non-negative.\u001b[39m\u001b[39m\"\u001b[39m \u001b[39m%\u001b[39m num)\n",
      "\u001b[0;31mTypeError\u001b[0m: 'float' object cannot be interpreted as an integer"
     ]
    }
   ],
   "source": [
    "# 功率谱\n",
    "import numpy as np\n",
    " \n",
    "def get_fft_power_spectrum(y_values, N, f_s, f):\n",
    "    f_values = np.linspace(0.0, f_s/f, N/f)\n",
    "    fft_values_ = np.abs(fft(y_values))\n",
    "    fft_values = 2.0/N * (fft_values_[0:N/2])    # 频率真实幅值分布，单边频谱图，再把所有点频率大小表示出来*2\n",
    " \n",
    "    # power spectrum 直接周期法\n",
    "    ps_values = fft_values**2 / N\n",
    " \n",
    "    # 自相关傅里叶变换法\n",
    "    cor_x = np.correlate(y_values, y_values, 'same')    # 自相关\n",
    "    cor_X = fft(cor_x, N)\n",
    "    ps_cor = np.abs(cor_X)\n",
    "    ps_cor_values = 10*np.log10(ps_cor[0:N/2] / np.max(ps_cor))\n",
    "    \n",
    "    return f_values, fft_values, ps_values, ps_cor_values\n",
    "\n",
    "# Maximum Value\n",
    "\n",
    "# test for one data\n",
    "# load data\n",
    "import numpy as np\n",
    "\n",
    "y1 = np.loadtxt(\"../../1.shapeClassification/KNN/dataset/processAndTemp/1.shapeTotal/1-1\")\n",
    "print(y1.shape)\n",
    "print(max(y1))\n",
    "print(get_fft_power_spectrum(1,8092,20000,2))\n",
    "\n",
    "\n",
    "\n",
    "\n",
    "\n",
    "\n",
    "\n"
   ]
  }
 ],
 "metadata": {
  "kernelspec": {
   "display_name": "Python 3.9.13 ('KNN')",
   "language": "python",
   "name": "python3"
  },
  "language_info": {
   "codemirror_mode": {
    "name": "ipython",
    "version": 3
   },
   "file_extension": ".py",
   "mimetype": "text/x-python",
   "name": "python",
   "nbconvert_exporter": "python",
   "pygments_lexer": "ipython3",
   "version": "3.9.13"
  },
  "orig_nbformat": 4,
  "vscode": {
   "interpreter": {
    "hash": "b5b752daff17e0bf69700663140c99ce1d03e57d78592962b9d45988231c70e3"
   }
  }
 },
 "nbformat": 4,
 "nbformat_minor": 2
}
