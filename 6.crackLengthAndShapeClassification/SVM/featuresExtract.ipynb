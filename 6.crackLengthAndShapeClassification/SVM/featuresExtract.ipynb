{
 "cells": [
  {
   "cell_type": "code",
   "execution_count": null,
   "metadata": {},
   "outputs": [],
   "source": [
    "# features extract\n"
   ]
  },
  {
   "cell_type": "code",
   "execution_count": null,
   "metadata": {},
   "outputs": [],
   "source": [
    "# test for one data\n",
    "# load data\n",
    "import numpy as np\n",
    "\n",
    "y1 = np.loadtxt(\"../KNN/dataset/train3-all/10000-1\")\n",
    "print(y1.shape)\n",
    "print(max(y1))\n",
    "print(min(y1))\n"
   ]
  },
  {
   "cell_type": "code",
   "execution_count": null,
   "metadata": {},
   "outputs": [],
   "source": [
    "# test for another data\n",
    "import numpy as np\n",
    "\n",
    "y2 = np.loadtxt(\"../KNN/dataset/train3-all/10000-1\")\n",
    "print(y2.shape)\n",
    "max_value_test = max(y2)\n",
    "min_value_test = min(y2)\n",
    "mean_value_test=np.mean(y2)\n",
    "range_value_test=max_value_test-min_value_test\n",
    "print(max_value_test,min_value_test,mean_value_test,range_value_test)\n"
   ]
  },
  {
   "cell_type": "code",
   "execution_count": null,
   "metadata": {},
   "outputs": [],
   "source": [
    "# features extract\n",
    "import numpy as np\n",
    "from os import listdir\n",
    "FileList = listdir('../KNN/dataset/train3-all/')\n",
    "# 返回文件夹下文件的个数\n",
    "m = len(FileList)\n",
    "# print(FileList)\n",
    "print(m)\n",
    "for i in range(m):\n",
    "    # 获得文件的名字\n",
    "    fileNameStr = FileList[i]\n",
    "    # 获得分类的数字\n",
    "    classNumber = int(fileNameStr.split('-')[1])\n",
    "    # if classNumber == 1:\n",
    "    #     data = np.loadtxt(f\"./dataset/rockshape/train/{fileNameStr}\")\n",
    "    #     # print(data)\n",
    "    #     max_value = max(data)\n",
    "    #     min_value = min(data)\n",
    "    #     # print(min(data))\n",
    "    #     # print(max_value)\n",
    "    #     # print(min_value)\n",
    "    #     saveArr = [max_value, min_value, 1]\n",
    "    #     saveArr = np.array(saveArr, dtype=float).reshape(1, 3)\n",
    "    #     print(saveArr)\n",
    "    #     print(saveArr.ndim)\n",
    "    #     # saveClassName = np.array([1], dtype=int)\n",
    "    #     with open(\"./dataset/rockshape/features_extract/test1.csv\", 'a+') as f:\n",
    "    #         np.savetxt(f, saveArr, delimiter=',')\n",
    "    #         # # np.savetxt(f,)\n",
    "    #         # np.savetxt(f, saveClassName)\n",
    "\n",
    "    #     # with open(\"./dataset/rockshape/features_extract/test1.csv\", 'a+') as f:\n",
    "    data = np.loadtxt(f\"../KNN/dataset/train3-all/{fileNameStr}\")\n",
    "    # print(data)\n",
    "    max_value = max(data)\n",
    "    min_value = min(data)\n",
    "    mean_value=np.mean(data)\n",
    "    range_value=max_value-min_value\n",
    "    # print(min(data))\n",
    "    # print(max_value)\n",
    "    # print(min_value)\n",
    "    saveArr = [max_value, min_value, mean_value,range_value,classNumber]\n",
    "    saveArr = np.array(saveArr, dtype=float).reshape(1, 5)\n",
    "    print(saveArr)\n",
    "    print(saveArr.ndim)\n",
    "    # saveClassName = np.array([1], dtype=int)\n",
    "    with open(\"./dataset/train3/train3.txt\", 'a+') as f:\n",
    "        np.savetxt(f, saveArr, delimiter=',')\n",
    "        # # np.savetxt(f,)\n",
    "        # np.savetxt(f, saveClassName)\n",
    "\n",
    "    # with open(\"./dataset/rockshape/features_extract/test1.csv\", 'a+') as f:\n",
    "            "
   ]
  },
  {
   "cell_type": "code",
   "execution_count": null,
   "metadata": {},
   "outputs": [],
   "source": [
    "import numpy as np\n",
    "import pandas as pd\n",
    "import matplotlib as mpl\n",
    "import matplotlib.pyplot as plt\n",
    "import warnings\n",
    "from sklearn import svm  # svm导入\n",
    "from sklearn.svm import SVC\n",
    "from sklearn.model_selection import train_test_split\n",
    "from sklearn.metrics import accuracy_score\n",
    "import sys\n",
    "\n",
    "sys.exit()\n",
    "# from sklearn.exceptions import ChangedBehaviorWarning\n",
    "\n",
    "# 设置属性防止中文乱码\n",
    "mpl.rcParams['font.sans-serif'] = ['SimHei']\n",
    "mpl.rcParams['axes.unicode_minus'] = False\n",
    "\n",
    "# warnings.filterwarnings('ignore', category=ChangedBehaviorWarning)\n",
    "\n",
    "# 读取数据\n",
    "# 'sepal length', 'sepal width', 'petal length', 'petal width'\n",
    "iris_feature = u'Feature1', u'Feature2'\n",
    "path = './dataset/rockshape/features_extract/test1.csv'  # 数据文件路径\n",
    "data = pd.read_csv(path, header=None)\n",
    "# print(data)\n",
    "x, y = data[list(range(2))], data[2].astype(int)\n",
    "# print(\"x=\",x)\n",
    "# print(\"y=\",y)\n",
    "# y = pd.Categorical(y).codes  # 把文本数据进行编码，比如a b c编码为 0 1 2\n",
    "\n",
    "# x = x[[1, 2]]\n",
    "print(\"x=\", x)\n",
    "print(\"y=\", y)\n",
    "\n",
    "# ## 数据分割\n",
    "x_train, x_test, y_train, y_test = train_test_split(\n",
    "    x, y, random_state=0, train_size=0.8)\n",
    "print(x_train)\n"
   ]
  },
  {
   "cell_type": "code",
   "execution_count": null,
   "metadata": {},
   "outputs": [],
   "source": [
    "clf = SVC(C=1,kernel='rbf',gamma=0.1)\n",
    "\n",
    "## 模型训练\n",
    "clf.fit(x_train, y_train)"
   ]
  },
  {
   "cell_type": "code",
   "execution_count": null,
   "metadata": {},
   "outputs": [],
   "source": [
    "print (clf.score(x_train, y_train)) \n",
    "print ('训练集准确率：', accuracy_score(y_train, clf.predict(x_train)))\n",
    "print (clf.score(x_test, y_test))\n",
    "print ('测试集准确率：', accuracy_score(y_test, clf.predict(x_test)))"
   ]
  },
  {
   "cell_type": "code",
   "execution_count": null,
   "metadata": {},
   "outputs": [],
   "source": [
    "print ('decision_function:\\n', clf.decision_function(x_train))\n",
    "print ('\\npredict:\\n', clf.predict(x_train))"
   ]
  },
  {
   "cell_type": "code",
   "execution_count": null,
   "metadata": {},
   "outputs": [],
   "source": [
    "N = 500\n",
    "x1_min, x2_min = x.min()-0.2\n",
    "x1_max, x2_max = x.max()+0.2\n",
    "\n",
    "t1 = np.linspace(x1_min, x1_max, N)\n",
    "t2 = np.linspace(x2_min, x2_max, N)\n",
    "x1, x2 = np.meshgrid(t1, t2)  # 生成网格采样点\n",
    "grid_show = np.dstack((x1.flat, x2.flat))[0]  # 测试点\n",
    "\n",
    "\n",
    "grid_hat = clf.predict(grid_show)       # 预测分类值\n",
    "grid_hat = grid_hat.reshape(x1.shape)  # 使之与输入的形状相同\n",
    "\n",
    "cm_light = mpl.colors.ListedColormap(['#00FFCC', '#FFA0A0', '#A0A0FF'])\n",
    "cm_dark = mpl.colors.ListedColormap(['g', 'r', 'b'])\n",
    "plt.figure(facecolor='w')\n",
    "# 区域图\n",
    "plt.pcolormesh(x1, x2, grid_hat, cmap=cm_light)\n",
    "# 所以样本点\n",
    "plt.scatter(x[0], x[1], c=y, edgecolors='k', s=50, cmap=cm_dark)      # 样本\n",
    "# 测试数据集\n",
    "plt.scatter(x_test[0], x_test[1], s=120,\n",
    "            facecolors='none', zorder=10)     # 圈中测试集样本\n",
    "# lable列表\n",
    "plt.xlabel(iris_feature[0], fontsize=13)\n",
    "plt.ylabel(iris_feature[1], fontsize=13)\n",
    "plt.xlim(x1_min, x1_max)\n",
    "plt.ylim(x2_min, x2_max)\n",
    "plt.title('SVM classification for rock', fontsize=16)\n",
    "plt.grid(b=True, ls=':')\n",
    "plt.tight_layout(pad=1.5)\n",
    "plt.show()\n"
   ]
  }
 ],
 "metadata": {
  "kernelspec": {
   "display_name": "Python 3.9.13 ('KNN')",
   "language": "python",
   "name": "python3"
  },
  "language_info": {
   "codemirror_mode": {
    "name": "ipython",
    "version": 3
   },
   "file_extension": ".py",
   "mimetype": "text/x-python",
   "name": "python",
   "nbconvert_exporter": "python",
   "pygments_lexer": "ipython3",
   "version": "3.9.13"
  },
  "orig_nbformat": 4,
  "vscode": {
   "interpreter": {
    "hash": "b5b752daff17e0bf69700663140c99ce1d03e57d78592962b9d45988231c70e3"
   }
  }
 },
 "nbformat": 4,
 "nbformat_minor": 2
}
