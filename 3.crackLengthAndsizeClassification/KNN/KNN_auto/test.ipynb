{
 "cells": [
  {
   "cell_type": "code",
   "execution_count": 3,
   "metadata": {},
   "outputs": [
    {
     "name": "stdout",
     "output_type": "stream",
     "text": [
      "[1 2 3]\n",
      "[4 5 6]\n",
      "[4 5 6]\n"
     ]
    }
   ],
   "source": [
    "import numpy as np\n",
    "arr = np.array([[1, 2, 3], [4, 5, 6]])\n",
    "for x in arr:    \n",
    "    print(x)\n",
    "print(arr[1])"
   ]
  },
  {
   "cell_type": "code",
   "execution_count": 5,
   "metadata": {},
   "outputs": [
    {
     "name": "stdout",
     "output_type": "stream",
     "text": [
      "(1, 8192)\n"
     ]
    }
   ],
   "source": [
    "def vector(filename):\n",
    "    # 创建向量\n",
    "    returnVect = np.zeros((1, 8192))\n",
    "    # print(returnVect)\n",
    "    # 打开文件\n",
    "    fr = open(filename)\n",
    "    # 按行读取\n",
    "    for i in range(8192):\n",
    "        # 读一行数据\n",
    "        lineStr = fr.readline().strip(\"\\n\")\n",
    "        # print(lineStr)\n",
    "        # 每一行的元素依次添加到returnVect中\n",
    "        returnVect[0][i] = lineStr\n",
    "    # 返回转换后的向量\n",
    "    # print(returnVect)\n",
    "    return returnVect\n",
    "\n",
    "A=vector(\"../dataset/test1-test/10034-3\")\n",
    "print(A.shape)"
   ]
  }
 ],
 "metadata": {
  "kernelspec": {
   "display_name": "Python 3.9.13 ('KNN')",
   "language": "python",
   "name": "python3"
  },
  "language_info": {
   "codemirror_mode": {
    "name": "ipython",
    "version": 3
   },
   "file_extension": ".py",
   "mimetype": "text/x-python",
   "name": "python",
   "nbconvert_exporter": "python",
   "pygments_lexer": "ipython3",
   "version": "3.9.13"
  },
  "orig_nbformat": 4,
  "vscode": {
   "interpreter": {
    "hash": "b5b752daff17e0bf69700663140c99ce1d03e57d78592962b9d45988231c70e3"
   }
  }
 },
 "nbformat": 4,
 "nbformat_minor": 2
}
